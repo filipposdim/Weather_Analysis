{
 "metadata": {
  "language_info": {
   "codemirror_mode": {
    "name": "ipython",
    "version": 3
   },
   "file_extension": ".py",
   "mimetype": "text/x-python",
   "name": "python",
   "nbconvert_exporter": "python",
   "pygments_lexer": "ipython3",
   "version": "3.7.10"
  },
  "orig_nbformat": 4,
  "kernelspec": {
   "name": "python3",
   "display_name": "Python 3.7.10 64-bit ('myenv': conda)"
  },
  "interpreter": {
   "hash": "73674a0d9608fb46124771d6f1b5aae6dced22bf2fc18a65d09260320ffbd93e"
  }
 },
 "nbformat": 4,
 "nbformat_minor": 2,
 "cells": [
  {
   "cell_type": "code",
   "execution_count": null,
   "metadata": {},
   "outputs": [],
   "source": []
  },
  {
   "source": [
    "Q. 1)  Find all the unique 'Wind Speed' values in the data.\n",
    "\n",
    "Q. 2) Find the number of times when the 'Weather is exactly Clear'.\n",
    "\n",
    "Q. 3) Find the number of times when the 'Wind Speed was exactly 4 km/h'.\n",
    "\n",
    "Q. 4) Find out all the Null Values in the data.\n",
    "\n",
    "Q. 5) Rename the column name 'Weather' of the dataframe to 'Weather Condition'.\n",
    "\n",
    "Q. 6) What is the mean 'Visibility' ?\n",
    "\n",
    "Q. 7) What is the Standard Deviation of 'Pressure'  in this data?\n",
    "\n",
    "Q. 8) What is the Variance of 'Relative Humidity' in this data ?\n",
    "\n",
    "Q. 9) Find all instances when 'Snow' was recorded.\n",
    "\n",
    "Q. 10) Find all instances when 'Wind Speed is above 24' and 'Visibility is 25'.\n",
    "\n",
    "Q. 11) What is the Mean value of each column against each 'Weather Condition ?\n",
    "\n",
    "Q. 12) What is the Minimum & Maximum value of each column against each 'Weather Condition ?\n",
    "\n",
    "Q. 13) Show all the Records where Weather Condition is Fog.\n",
    "\n",
    "Q. 14) Find all instances when 'Weather is Clear' or 'Visibility is above 40'.\n",
    "\n",
    "Q. 15) Find all instances when :\n",
    "\n",
    "A. 'Weather is Clear' and 'Relative Humidity is greater than 50'\n",
    "or\n",
    "B. 'Visibility is above 40'"
   ],
   "cell_type": "markdown",
   "metadata": {}
  },
  {
   "cell_type": "code",
   "execution_count": 3,
   "metadata": {},
   "outputs": [],
   "source": [
    "import pandas as pd\n",
    "import numpy as np\n",
    "import matplotlib as plt\n",
    "import datetime as dt\n",
    "\n"
   ]
  },
  {
   "cell_type": "code",
   "execution_count": 50,
   "metadata": {},
   "outputs": [],
   "source": [
    "data = pd.read_csv(r\"C:\\Users\\user\\Documents\\GitHub\\Weather-dataset-analysis\\weather_data.csv\", parse_dates=[\"Date/Time\"])"
   ]
  },
  {
   "source": [
    "Q1. Unique Wind Speed values"
   ],
   "cell_type": "markdown",
   "metadata": {}
  },
  {
   "cell_type": "code",
   "execution_count": 52,
   "metadata": {},
   "outputs": [
    {
     "output_type": "execute_result",
     "data": {
      "text/plain": [
       "            Date/Time  Temp_C  Dew Point Temp_C  Rel Hum_%  Wind Speed_km/h  \\\n",
       "0 2012-01-01 00:00:00    -1.8              -3.9         86                4   \n",
       "1 2012-01-01 01:00:00    -1.8              -3.7         87                4   \n",
       "\n",
       "   Visibility_km  Press_kPa Weather  \n",
       "0            8.0     101.24     Fog  \n",
       "1            8.0     101.24     Fog  "
      ],
      "text/html": "<div>\n<style scoped>\n    .dataframe tbody tr th:only-of-type {\n        vertical-align: middle;\n    }\n\n    .dataframe tbody tr th {\n        vertical-align: top;\n    }\n\n    .dataframe thead th {\n        text-align: right;\n    }\n</style>\n<table border=\"1\" class=\"dataframe\">\n  <thead>\n    <tr style=\"text-align: right;\">\n      <th></th>\n      <th>Date/Time</th>\n      <th>Temp_C</th>\n      <th>Dew Point Temp_C</th>\n      <th>Rel Hum_%</th>\n      <th>Wind Speed_km/h</th>\n      <th>Visibility_km</th>\n      <th>Press_kPa</th>\n      <th>Weather</th>\n    </tr>\n  </thead>\n  <tbody>\n    <tr>\n      <th>0</th>\n      <td>2012-01-01 00:00:00</td>\n      <td>-1.8</td>\n      <td>-3.9</td>\n      <td>86</td>\n      <td>4</td>\n      <td>8.0</td>\n      <td>101.24</td>\n      <td>Fog</td>\n    </tr>\n    <tr>\n      <th>1</th>\n      <td>2012-01-01 01:00:00</td>\n      <td>-1.8</td>\n      <td>-3.7</td>\n      <td>87</td>\n      <td>4</td>\n      <td>8.0</td>\n      <td>101.24</td>\n      <td>Fog</td>\n    </tr>\n  </tbody>\n</table>\n</div>"
     },
     "metadata": {},
     "execution_count": 52
    }
   ],
   "source": [
    "data.head(2)"
   ]
  },
  {
   "cell_type": "code",
   "execution_count": 55,
   "metadata": {},
   "outputs": [
    {
     "output_type": "execute_result",
     "data": {
      "text/plain": [
       "34"
      ]
     },
     "metadata": {},
     "execution_count": 55
    }
   ],
   "source": [
    "data[\"Wind Speed_km/h\"].nunique()"
   ]
  },
  {
   "cell_type": "code",
   "execution_count": 56,
   "metadata": {},
   "outputs": [
    {
     "output_type": "execute_result",
     "data": {
      "text/plain": [
       "array([ 4,  7,  6,  9, 15, 13, 20, 22, 19, 24, 30, 35, 39, 32, 33, 26, 44,\n",
       "       43, 48, 37, 28, 17, 11,  0, 83, 70, 57, 46, 41, 52, 50, 63, 54,  2],\n",
       "      dtype=int64)"
      ]
     },
     "metadata": {},
     "execution_count": 56
    }
   ],
   "source": [
    "data[\"Wind Speed_km/h\"].unique()"
   ]
  },
  {
   "source": [
    "Q2. Number of times for clear weather"
   ],
   "cell_type": "markdown",
   "metadata": {}
  },
  {
   "cell_type": "code",
   "execution_count": 59,
   "metadata": {},
   "outputs": [
    {
     "output_type": "execute_result",
     "data": {
      "text/plain": [
       "Mainly Clear                               2106\n",
       "Mostly Cloudy                              2069\n",
       "Cloudy                                     1728\n",
       "Clear                                      1326\n",
       "Snow                                        390\n",
       "Rain                                        306\n",
       "Rain Showers                                188\n",
       "Fog                                         150\n",
       "Rain,Fog                                    116\n",
       "Drizzle,Fog                                  80\n",
       "Snow Showers                                 60\n",
       "Drizzle                                      41\n",
       "Snow,Fog                                     37\n",
       "Snow,Blowing Snow                            19\n",
       "Rain,Snow                                    18\n",
       "Haze                                         16\n",
       "Thunderstorms,Rain Showers                   16\n",
       "Drizzle,Snow,Fog                             15\n",
       "Freezing Rain                                14\n",
       "Freezing Drizzle,Snow                        11\n",
       "Freezing Drizzle                              7\n",
       "Snow,Ice Pellets                              6\n",
       "Freezing Drizzle,Fog                          6\n",
       "Snow,Haze                                     5\n",
       "Moderate Snow                                 4\n",
       "Rain,Snow,Ice Pellets                         4\n",
       "Freezing Fog                                  4\n",
       "Snow Showers,Fog                              4\n",
       "Freezing Rain,Fog                             4\n",
       "Thunderstorms,Rain                            3\n",
       "Rain,Haze                                     3\n",
       "Thunderstorms,Rain Showers,Fog                3\n",
       "Freezing Drizzle,Haze                         3\n",
       "Drizzle,Snow                                  2\n",
       "Moderate Snow,Blowing Snow                    2\n",
       "Thunderstorms                                 2\n",
       "Freezing Rain,Haze                            2\n",
       "Rain Showers,Snow Showers                     2\n",
       "Snow Pellets                                  1\n",
       "Moderate Rain,Fog                             1\n",
       "Freezing Rain,Ice Pellets,Fog                 1\n",
       "Freezing Rain,Snow Grains                     1\n",
       "Drizzle,Ice Pellets,Fog                       1\n",
       "Thunderstorms,Moderate Rain Showers,Fog       1\n",
       "Rain,Snow,Fog                                 1\n",
       "Rain,Ice Pellets                              1\n",
       "Rain,Snow Grains                              1\n",
       "Thunderstorms,Heavy Rain Showers              1\n",
       "Rain Showers,Fog                              1\n",
       "Thunderstorms,Rain,Fog                        1\n",
       "Name: Weather, dtype: int64"
      ]
     },
     "metadata": {},
     "execution_count": 59
    }
   ],
   "source": [
    "data.Weather.value_counts()"
   ]
  },
  {
   "cell_type": "code",
   "execution_count": 60,
   "metadata": {},
   "outputs": [
    {
     "output_type": "execute_result",
     "data": {
      "text/plain": [
       "               Date/Time  Temp_C  Dew Point Temp_C  Rel Hum_%  \\\n",
       "67   2012-01-03 19:00:00   -16.9             -24.8         50   \n",
       "114  2012-01-05 18:00:00    -7.1             -14.4         56   \n",
       "115  2012-01-05 19:00:00    -9.2             -15.4         61   \n",
       "116  2012-01-05 20:00:00    -9.8             -15.7         62   \n",
       "117  2012-01-05 21:00:00    -9.0             -14.8         63   \n",
       "...                  ...     ...               ...        ...   \n",
       "8646 2012-12-26 06:00:00   -13.4             -14.8         89   \n",
       "8698 2012-12-28 10:00:00    -6.1              -8.6         82   \n",
       "8713 2012-12-29 01:00:00   -11.9             -13.6         87   \n",
       "8714 2012-12-29 02:00:00   -11.8             -13.1         90   \n",
       "8756 2012-12-30 20:00:00   -13.8             -16.5         80   \n",
       "\n",
       "      Wind Speed_km/h  Visibility_km  Press_kPa Weather  \n",
       "67                 24           25.0     101.74   Clear  \n",
       "114                11           25.0     100.71   Clear  \n",
       "115                 7           25.0     100.80   Clear  \n",
       "116                 9           25.0     100.83   Clear  \n",
       "117                13           25.0     100.83   Clear  \n",
       "...               ...            ...        ...     ...  \n",
       "8646                4           25.0     102.47   Clear  \n",
       "8698               19           24.1     101.27   Clear  \n",
       "8713               11           25.0     101.31   Clear  \n",
       "8714               13           25.0     101.33   Clear  \n",
       "8756               24           25.0     101.52   Clear  \n",
       "\n",
       "[1326 rows x 8 columns]"
      ],
      "text/html": "<div>\n<style scoped>\n    .dataframe tbody tr th:only-of-type {\n        vertical-align: middle;\n    }\n\n    .dataframe tbody tr th {\n        vertical-align: top;\n    }\n\n    .dataframe thead th {\n        text-align: right;\n    }\n</style>\n<table border=\"1\" class=\"dataframe\">\n  <thead>\n    <tr style=\"text-align: right;\">\n      <th></th>\n      <th>Date/Time</th>\n      <th>Temp_C</th>\n      <th>Dew Point Temp_C</th>\n      <th>Rel Hum_%</th>\n      <th>Wind Speed_km/h</th>\n      <th>Visibility_km</th>\n      <th>Press_kPa</th>\n      <th>Weather</th>\n    </tr>\n  </thead>\n  <tbody>\n    <tr>\n      <th>67</th>\n      <td>2012-01-03 19:00:00</td>\n      <td>-16.9</td>\n      <td>-24.8</td>\n      <td>50</td>\n      <td>24</td>\n      <td>25.0</td>\n      <td>101.74</td>\n      <td>Clear</td>\n    </tr>\n    <tr>\n      <th>114</th>\n      <td>2012-01-05 18:00:00</td>\n      <td>-7.1</td>\n      <td>-14.4</td>\n      <td>56</td>\n      <td>11</td>\n      <td>25.0</td>\n      <td>100.71</td>\n      <td>Clear</td>\n    </tr>\n    <tr>\n      <th>115</th>\n      <td>2012-01-05 19:00:00</td>\n      <td>-9.2</td>\n      <td>-15.4</td>\n      <td>61</td>\n      <td>7</td>\n      <td>25.0</td>\n      <td>100.80</td>\n      <td>Clear</td>\n    </tr>\n    <tr>\n      <th>116</th>\n      <td>2012-01-05 20:00:00</td>\n      <td>-9.8</td>\n      <td>-15.7</td>\n      <td>62</td>\n      <td>9</td>\n      <td>25.0</td>\n      <td>100.83</td>\n      <td>Clear</td>\n    </tr>\n    <tr>\n      <th>117</th>\n      <td>2012-01-05 21:00:00</td>\n      <td>-9.0</td>\n      <td>-14.8</td>\n      <td>63</td>\n      <td>13</td>\n      <td>25.0</td>\n      <td>100.83</td>\n      <td>Clear</td>\n    </tr>\n    <tr>\n      <th>...</th>\n      <td>...</td>\n      <td>...</td>\n      <td>...</td>\n      <td>...</td>\n      <td>...</td>\n      <td>...</td>\n      <td>...</td>\n      <td>...</td>\n    </tr>\n    <tr>\n      <th>8646</th>\n      <td>2012-12-26 06:00:00</td>\n      <td>-13.4</td>\n      <td>-14.8</td>\n      <td>89</td>\n      <td>4</td>\n      <td>25.0</td>\n      <td>102.47</td>\n      <td>Clear</td>\n    </tr>\n    <tr>\n      <th>8698</th>\n      <td>2012-12-28 10:00:00</td>\n      <td>-6.1</td>\n      <td>-8.6</td>\n      <td>82</td>\n      <td>19</td>\n      <td>24.1</td>\n      <td>101.27</td>\n      <td>Clear</td>\n    </tr>\n    <tr>\n      <th>8713</th>\n      <td>2012-12-29 01:00:00</td>\n      <td>-11.9</td>\n      <td>-13.6</td>\n      <td>87</td>\n      <td>11</td>\n      <td>25.0</td>\n      <td>101.31</td>\n      <td>Clear</td>\n    </tr>\n    <tr>\n      <th>8714</th>\n      <td>2012-12-29 02:00:00</td>\n      <td>-11.8</td>\n      <td>-13.1</td>\n      <td>90</td>\n      <td>13</td>\n      <td>25.0</td>\n      <td>101.33</td>\n      <td>Clear</td>\n    </tr>\n    <tr>\n      <th>8756</th>\n      <td>2012-12-30 20:00:00</td>\n      <td>-13.8</td>\n      <td>-16.5</td>\n      <td>80</td>\n      <td>24</td>\n      <td>25.0</td>\n      <td>101.52</td>\n      <td>Clear</td>\n    </tr>\n  </tbody>\n</table>\n<p>1326 rows × 8 columns</p>\n</div>"
     },
     "metadata": {},
     "execution_count": 60
    }
   ],
   "source": [
    "data[data.Weather == \"Clear\"]"
   ]
  },
  {
   "cell_type": "code",
   "execution_count": 61,
   "metadata": {},
   "outputs": [
    {
     "output_type": "execute_result",
     "data": {
      "text/plain": [
       "               Date/Time  Temp_C  Dew Point Temp_C  Rel Hum_%  \\\n",
       "67   2012-01-03 19:00:00   -16.9             -24.8         50   \n",
       "114  2012-01-05 18:00:00    -7.1             -14.4         56   \n",
       "115  2012-01-05 19:00:00    -9.2             -15.4         61   \n",
       "116  2012-01-05 20:00:00    -9.8             -15.7         62   \n",
       "117  2012-01-05 21:00:00    -9.0             -14.8         63   \n",
       "...                  ...     ...               ...        ...   \n",
       "8646 2012-12-26 06:00:00   -13.4             -14.8         89   \n",
       "8698 2012-12-28 10:00:00    -6.1              -8.6         82   \n",
       "8713 2012-12-29 01:00:00   -11.9             -13.6         87   \n",
       "8714 2012-12-29 02:00:00   -11.8             -13.1         90   \n",
       "8756 2012-12-30 20:00:00   -13.8             -16.5         80   \n",
       "\n",
       "      Wind Speed_km/h  Visibility_km  Press_kPa Weather  \n",
       "67                 24           25.0     101.74   Clear  \n",
       "114                11           25.0     100.71   Clear  \n",
       "115                 7           25.0     100.80   Clear  \n",
       "116                 9           25.0     100.83   Clear  \n",
       "117                13           25.0     100.83   Clear  \n",
       "...               ...            ...        ...     ...  \n",
       "8646                4           25.0     102.47   Clear  \n",
       "8698               19           24.1     101.27   Clear  \n",
       "8713               11           25.0     101.31   Clear  \n",
       "8714               13           25.0     101.33   Clear  \n",
       "8756               24           25.0     101.52   Clear  \n",
       "\n",
       "[1326 rows x 8 columns]"
      ],
      "text/html": "<div>\n<style scoped>\n    .dataframe tbody tr th:only-of-type {\n        vertical-align: middle;\n    }\n\n    .dataframe tbody tr th {\n        vertical-align: top;\n    }\n\n    .dataframe thead th {\n        text-align: right;\n    }\n</style>\n<table border=\"1\" class=\"dataframe\">\n  <thead>\n    <tr style=\"text-align: right;\">\n      <th></th>\n      <th>Date/Time</th>\n      <th>Temp_C</th>\n      <th>Dew Point Temp_C</th>\n      <th>Rel Hum_%</th>\n      <th>Wind Speed_km/h</th>\n      <th>Visibility_km</th>\n      <th>Press_kPa</th>\n      <th>Weather</th>\n    </tr>\n  </thead>\n  <tbody>\n    <tr>\n      <th>67</th>\n      <td>2012-01-03 19:00:00</td>\n      <td>-16.9</td>\n      <td>-24.8</td>\n      <td>50</td>\n      <td>24</td>\n      <td>25.0</td>\n      <td>101.74</td>\n      <td>Clear</td>\n    </tr>\n    <tr>\n      <th>114</th>\n      <td>2012-01-05 18:00:00</td>\n      <td>-7.1</td>\n      <td>-14.4</td>\n      <td>56</td>\n      <td>11</td>\n      <td>25.0</td>\n      <td>100.71</td>\n      <td>Clear</td>\n    </tr>\n    <tr>\n      <th>115</th>\n      <td>2012-01-05 19:00:00</td>\n      <td>-9.2</td>\n      <td>-15.4</td>\n      <td>61</td>\n      <td>7</td>\n      <td>25.0</td>\n      <td>100.80</td>\n      <td>Clear</td>\n    </tr>\n    <tr>\n      <th>116</th>\n      <td>2012-01-05 20:00:00</td>\n      <td>-9.8</td>\n      <td>-15.7</td>\n      <td>62</td>\n      <td>9</td>\n      <td>25.0</td>\n      <td>100.83</td>\n      <td>Clear</td>\n    </tr>\n    <tr>\n      <th>117</th>\n      <td>2012-01-05 21:00:00</td>\n      <td>-9.0</td>\n      <td>-14.8</td>\n      <td>63</td>\n      <td>13</td>\n      <td>25.0</td>\n      <td>100.83</td>\n      <td>Clear</td>\n    </tr>\n    <tr>\n      <th>...</th>\n      <td>...</td>\n      <td>...</td>\n      <td>...</td>\n      <td>...</td>\n      <td>...</td>\n      <td>...</td>\n      <td>...</td>\n      <td>...</td>\n    </tr>\n    <tr>\n      <th>8646</th>\n      <td>2012-12-26 06:00:00</td>\n      <td>-13.4</td>\n      <td>-14.8</td>\n      <td>89</td>\n      <td>4</td>\n      <td>25.0</td>\n      <td>102.47</td>\n      <td>Clear</td>\n    </tr>\n    <tr>\n      <th>8698</th>\n      <td>2012-12-28 10:00:00</td>\n      <td>-6.1</td>\n      <td>-8.6</td>\n      <td>82</td>\n      <td>19</td>\n      <td>24.1</td>\n      <td>101.27</td>\n      <td>Clear</td>\n    </tr>\n    <tr>\n      <th>8713</th>\n      <td>2012-12-29 01:00:00</td>\n      <td>-11.9</td>\n      <td>-13.6</td>\n      <td>87</td>\n      <td>11</td>\n      <td>25.0</td>\n      <td>101.31</td>\n      <td>Clear</td>\n    </tr>\n    <tr>\n      <th>8714</th>\n      <td>2012-12-29 02:00:00</td>\n      <td>-11.8</td>\n      <td>-13.1</td>\n      <td>90</td>\n      <td>13</td>\n      <td>25.0</td>\n      <td>101.33</td>\n      <td>Clear</td>\n    </tr>\n    <tr>\n      <th>8756</th>\n      <td>2012-12-30 20:00:00</td>\n      <td>-13.8</td>\n      <td>-16.5</td>\n      <td>80</td>\n      <td>24</td>\n      <td>25.0</td>\n      <td>101.52</td>\n      <td>Clear</td>\n    </tr>\n  </tbody>\n</table>\n<p>1326 rows × 8 columns</p>\n</div>"
     },
     "metadata": {},
     "execution_count": 61
    }
   ],
   "source": [
    "data.groupby(\"Weather\").get_group('Clear')"
   ]
  },
  {
   "source": [
    "Q. 3) Find the number of times when the 'Wind Speed was exactly 4 km/h'"
   ],
   "cell_type": "markdown",
   "metadata": {}
  },
  {
   "cell_type": "code",
   "execution_count": 65,
   "metadata": {},
   "outputs": [
    {
     "output_type": "execute_result",
     "data": {
      "text/plain": [
       "               Date/Time  Temp_C  Dew Point Temp_C  Rel Hum_%  \\\n",
       "0    2012-01-01 00:00:00    -1.8              -3.9         86   \n",
       "1    2012-01-01 01:00:00    -1.8              -3.7         87   \n",
       "96   2012-01-05 00:00:00    -8.8             -11.7         79   \n",
       "101  2012-01-05 05:00:00    -7.0              -9.5         82   \n",
       "146  2012-01-07 02:00:00    -8.1             -11.1         79   \n",
       "...                  ...     ...               ...        ...   \n",
       "8768 2012-12-31 08:00:00    -8.6             -10.3         87   \n",
       "8769 2012-12-31 09:00:00    -8.1              -9.6         89   \n",
       "8770 2012-12-31 10:00:00    -7.4              -8.9         89   \n",
       "8772 2012-12-31 12:00:00    -5.8              -7.5         88   \n",
       "8773 2012-12-31 13:00:00    -4.6              -6.6         86   \n",
       "\n",
       "      Wind Speed_km/h  Visibility_km  Press_kPa       Weather  \n",
       "0                   4            8.0     101.24           Fog  \n",
       "1                   4            8.0     101.24           Fog  \n",
       "96                  4            9.7     100.32          Snow  \n",
       "101                 4            4.0     100.19          Snow  \n",
       "146                 4           19.3     100.15        Cloudy  \n",
       "...               ...            ...        ...           ...  \n",
       "8768                4            3.2     101.14  Snow Showers  \n",
       "8769                4            2.4     101.09          Snow  \n",
       "8770                4            6.4     101.05      Snow,Fog  \n",
       "8772                4           12.9     100.78          Snow  \n",
       "8773                4           12.9     100.63          Snow  \n",
       "\n",
       "[474 rows x 8 columns]"
      ],
      "text/html": "<div>\n<style scoped>\n    .dataframe tbody tr th:only-of-type {\n        vertical-align: middle;\n    }\n\n    .dataframe tbody tr th {\n        vertical-align: top;\n    }\n\n    .dataframe thead th {\n        text-align: right;\n    }\n</style>\n<table border=\"1\" class=\"dataframe\">\n  <thead>\n    <tr style=\"text-align: right;\">\n      <th></th>\n      <th>Date/Time</th>\n      <th>Temp_C</th>\n      <th>Dew Point Temp_C</th>\n      <th>Rel Hum_%</th>\n      <th>Wind Speed_km/h</th>\n      <th>Visibility_km</th>\n      <th>Press_kPa</th>\n      <th>Weather</th>\n    </tr>\n  </thead>\n  <tbody>\n    <tr>\n      <th>0</th>\n      <td>2012-01-01 00:00:00</td>\n      <td>-1.8</td>\n      <td>-3.9</td>\n      <td>86</td>\n      <td>4</td>\n      <td>8.0</td>\n      <td>101.24</td>\n      <td>Fog</td>\n    </tr>\n    <tr>\n      <th>1</th>\n      <td>2012-01-01 01:00:00</td>\n      <td>-1.8</td>\n      <td>-3.7</td>\n      <td>87</td>\n      <td>4</td>\n      <td>8.0</td>\n      <td>101.24</td>\n      <td>Fog</td>\n    </tr>\n    <tr>\n      <th>96</th>\n      <td>2012-01-05 00:00:00</td>\n      <td>-8.8</td>\n      <td>-11.7</td>\n      <td>79</td>\n      <td>4</td>\n      <td>9.7</td>\n      <td>100.32</td>\n      <td>Snow</td>\n    </tr>\n    <tr>\n      <th>101</th>\n      <td>2012-01-05 05:00:00</td>\n      <td>-7.0</td>\n      <td>-9.5</td>\n      <td>82</td>\n      <td>4</td>\n      <td>4.0</td>\n      <td>100.19</td>\n      <td>Snow</td>\n    </tr>\n    <tr>\n      <th>146</th>\n      <td>2012-01-07 02:00:00</td>\n      <td>-8.1</td>\n      <td>-11.1</td>\n      <td>79</td>\n      <td>4</td>\n      <td>19.3</td>\n      <td>100.15</td>\n      <td>Cloudy</td>\n    </tr>\n    <tr>\n      <th>...</th>\n      <td>...</td>\n      <td>...</td>\n      <td>...</td>\n      <td>...</td>\n      <td>...</td>\n      <td>...</td>\n      <td>...</td>\n      <td>...</td>\n    </tr>\n    <tr>\n      <th>8768</th>\n      <td>2012-12-31 08:00:00</td>\n      <td>-8.6</td>\n      <td>-10.3</td>\n      <td>87</td>\n      <td>4</td>\n      <td>3.2</td>\n      <td>101.14</td>\n      <td>Snow Showers</td>\n    </tr>\n    <tr>\n      <th>8769</th>\n      <td>2012-12-31 09:00:00</td>\n      <td>-8.1</td>\n      <td>-9.6</td>\n      <td>89</td>\n      <td>4</td>\n      <td>2.4</td>\n      <td>101.09</td>\n      <td>Snow</td>\n    </tr>\n    <tr>\n      <th>8770</th>\n      <td>2012-12-31 10:00:00</td>\n      <td>-7.4</td>\n      <td>-8.9</td>\n      <td>89</td>\n      <td>4</td>\n      <td>6.4</td>\n      <td>101.05</td>\n      <td>Snow,Fog</td>\n    </tr>\n    <tr>\n      <th>8772</th>\n      <td>2012-12-31 12:00:00</td>\n      <td>-5.8</td>\n      <td>-7.5</td>\n      <td>88</td>\n      <td>4</td>\n      <td>12.9</td>\n      <td>100.78</td>\n      <td>Snow</td>\n    </tr>\n    <tr>\n      <th>8773</th>\n      <td>2012-12-31 13:00:00</td>\n      <td>-4.6</td>\n      <td>-6.6</td>\n      <td>86</td>\n      <td>4</td>\n      <td>12.9</td>\n      <td>100.63</td>\n      <td>Snow</td>\n    </tr>\n  </tbody>\n</table>\n<p>474 rows × 8 columns</p>\n</div>"
     },
     "metadata": {},
     "execution_count": 65
    }
   ],
   "source": [
    "data[data[\"Wind Speed_km/h\"] == 4]"
   ]
  },
  {
   "source": [
    "Q. 4) Find out all the Null Values in the data."
   ],
   "cell_type": "markdown",
   "metadata": {}
  },
  {
   "cell_type": "code",
   "execution_count": 67,
   "metadata": {},
   "outputs": [
    {
     "output_type": "execute_result",
     "data": {
      "text/plain": [
       "Date/Time           0\n",
       "Temp_C              0\n",
       "Dew Point Temp_C    0\n",
       "Rel Hum_%           0\n",
       "Wind Speed_km/h     0\n",
       "Visibility_km       0\n",
       "Press_kPa           0\n",
       "Weather             0\n",
       "dtype: int64"
      ]
     },
     "metadata": {},
     "execution_count": 67
    }
   ],
   "source": [
    "data.isnull().sum()"
   ]
  },
  {
   "source": [
    "Q. 5) Rename the column name 'Weather' of the dataframe to 'Weather Condition'."
   ],
   "cell_type": "markdown",
   "metadata": {}
  },
  {
   "cell_type": "code",
   "execution_count": 68,
   "metadata": {},
   "outputs": [
    {
     "output_type": "execute_result",
     "data": {
      "text/plain": [
       "               Date/Time  Temp_C  Dew Point Temp_C  Rel Hum_%  \\\n",
       "0    2012-01-01 00:00:00    -1.8              -3.9         86   \n",
       "1    2012-01-01 01:00:00    -1.8              -3.7         87   \n",
       "2    2012-01-01 02:00:00    -1.8              -3.4         89   \n",
       "3    2012-01-01 03:00:00    -1.5              -3.2         88   \n",
       "4    2012-01-01 04:00:00    -1.5              -3.3         88   \n",
       "...                  ...     ...               ...        ...   \n",
       "8779 2012-12-31 19:00:00     0.1              -2.7         81   \n",
       "8780 2012-12-31 20:00:00     0.2              -2.4         83   \n",
       "8781 2012-12-31 21:00:00    -0.5              -1.5         93   \n",
       "8782 2012-12-31 22:00:00    -0.2              -1.8         89   \n",
       "8783 2012-12-31 23:00:00     0.0              -2.1         86   \n",
       "\n",
       "      Wind Speed_km/h  Visibility_km  Press_kPa     Weather Condition  \n",
       "0                   4            8.0     101.24                   Fog  \n",
       "1                   4            8.0     101.24                   Fog  \n",
       "2                   7            4.0     101.26  Freezing Drizzle,Fog  \n",
       "3                   6            4.0     101.27  Freezing Drizzle,Fog  \n",
       "4                   7            4.8     101.23                   Fog  \n",
       "...               ...            ...        ...                   ...  \n",
       "8779               30            9.7     100.13                  Snow  \n",
       "8780               24            9.7     100.03                  Snow  \n",
       "8781               28            4.8      99.95                  Snow  \n",
       "8782               28            9.7      99.91                  Snow  \n",
       "8783               30           11.3      99.89                  Snow  \n",
       "\n",
       "[8784 rows x 8 columns]"
      ],
      "text/html": "<div>\n<style scoped>\n    .dataframe tbody tr th:only-of-type {\n        vertical-align: middle;\n    }\n\n    .dataframe tbody tr th {\n        vertical-align: top;\n    }\n\n    .dataframe thead th {\n        text-align: right;\n    }\n</style>\n<table border=\"1\" class=\"dataframe\">\n  <thead>\n    <tr style=\"text-align: right;\">\n      <th></th>\n      <th>Date/Time</th>\n      <th>Temp_C</th>\n      <th>Dew Point Temp_C</th>\n      <th>Rel Hum_%</th>\n      <th>Wind Speed_km/h</th>\n      <th>Visibility_km</th>\n      <th>Press_kPa</th>\n      <th>Weather Condition</th>\n    </tr>\n  </thead>\n  <tbody>\n    <tr>\n      <th>0</th>\n      <td>2012-01-01 00:00:00</td>\n      <td>-1.8</td>\n      <td>-3.9</td>\n      <td>86</td>\n      <td>4</td>\n      <td>8.0</td>\n      <td>101.24</td>\n      <td>Fog</td>\n    </tr>\n    <tr>\n      <th>1</th>\n      <td>2012-01-01 01:00:00</td>\n      <td>-1.8</td>\n      <td>-3.7</td>\n      <td>87</td>\n      <td>4</td>\n      <td>8.0</td>\n      <td>101.24</td>\n      <td>Fog</td>\n    </tr>\n    <tr>\n      <th>2</th>\n      <td>2012-01-01 02:00:00</td>\n      <td>-1.8</td>\n      <td>-3.4</td>\n      <td>89</td>\n      <td>7</td>\n      <td>4.0</td>\n      <td>101.26</td>\n      <td>Freezing Drizzle,Fog</td>\n    </tr>\n    <tr>\n      <th>3</th>\n      <td>2012-01-01 03:00:00</td>\n      <td>-1.5</td>\n      <td>-3.2</td>\n      <td>88</td>\n      <td>6</td>\n      <td>4.0</td>\n      <td>101.27</td>\n      <td>Freezing Drizzle,Fog</td>\n    </tr>\n    <tr>\n      <th>4</th>\n      <td>2012-01-01 04:00:00</td>\n      <td>-1.5</td>\n      <td>-3.3</td>\n      <td>88</td>\n      <td>7</td>\n      <td>4.8</td>\n      <td>101.23</td>\n      <td>Fog</td>\n    </tr>\n    <tr>\n      <th>...</th>\n      <td>...</td>\n      <td>...</td>\n      <td>...</td>\n      <td>...</td>\n      <td>...</td>\n      <td>...</td>\n      <td>...</td>\n      <td>...</td>\n    </tr>\n    <tr>\n      <th>8779</th>\n      <td>2012-12-31 19:00:00</td>\n      <td>0.1</td>\n      <td>-2.7</td>\n      <td>81</td>\n      <td>30</td>\n      <td>9.7</td>\n      <td>100.13</td>\n      <td>Snow</td>\n    </tr>\n    <tr>\n      <th>8780</th>\n      <td>2012-12-31 20:00:00</td>\n      <td>0.2</td>\n      <td>-2.4</td>\n      <td>83</td>\n      <td>24</td>\n      <td>9.7</td>\n      <td>100.03</td>\n      <td>Snow</td>\n    </tr>\n    <tr>\n      <th>8781</th>\n      <td>2012-12-31 21:00:00</td>\n      <td>-0.5</td>\n      <td>-1.5</td>\n      <td>93</td>\n      <td>28</td>\n      <td>4.8</td>\n      <td>99.95</td>\n      <td>Snow</td>\n    </tr>\n    <tr>\n      <th>8782</th>\n      <td>2012-12-31 22:00:00</td>\n      <td>-0.2</td>\n      <td>-1.8</td>\n      <td>89</td>\n      <td>28</td>\n      <td>9.7</td>\n      <td>99.91</td>\n      <td>Snow</td>\n    </tr>\n    <tr>\n      <th>8783</th>\n      <td>2012-12-31 23:00:00</td>\n      <td>0.0</td>\n      <td>-2.1</td>\n      <td>86</td>\n      <td>30</td>\n      <td>11.3</td>\n      <td>99.89</td>\n      <td>Snow</td>\n    </tr>\n  </tbody>\n</table>\n<p>8784 rows × 8 columns</p>\n</div>"
     },
     "metadata": {},
     "execution_count": 68
    }
   ],
   "source": [
    "data.rename(columns={\"Weather\" : \"Weather Condition\"})"
   ]
  },
  {
   "source": [
    "To rename a column forever, we have to use , inplace = True"
   ],
   "cell_type": "markdown",
   "metadata": {}
  },
  {
   "cell_type": "code",
   "execution_count": 69,
   "metadata": {},
   "outputs": [],
   "source": [
    "data.rename(columns={\"Weather\" : \"Weather Condition\"}, inplace=True)"
   ]
  },
  {
   "cell_type": "code",
   "execution_count": 70,
   "metadata": {},
   "outputs": [
    {
     "output_type": "execute_result",
     "data": {
      "text/plain": [
       "            Date/Time  Temp_C  Dew Point Temp_C  Rel Hum_%  Wind Speed_km/h  \\\n",
       "0 2012-01-01 00:00:00    -1.8              -3.9         86                4   \n",
       "1 2012-01-01 01:00:00    -1.8              -3.7         87                4   \n",
       "2 2012-01-01 02:00:00    -1.8              -3.4         89                7   \n",
       "3 2012-01-01 03:00:00    -1.5              -3.2         88                6   \n",
       "4 2012-01-01 04:00:00    -1.5              -3.3         88                7   \n",
       "\n",
       "   Visibility_km  Press_kPa     Weather Condition  \n",
       "0            8.0     101.24                   Fog  \n",
       "1            8.0     101.24                   Fog  \n",
       "2            4.0     101.26  Freezing Drizzle,Fog  \n",
       "3            4.0     101.27  Freezing Drizzle,Fog  \n",
       "4            4.8     101.23                   Fog  "
      ],
      "text/html": "<div>\n<style scoped>\n    .dataframe tbody tr th:only-of-type {\n        vertical-align: middle;\n    }\n\n    .dataframe tbody tr th {\n        vertical-align: top;\n    }\n\n    .dataframe thead th {\n        text-align: right;\n    }\n</style>\n<table border=\"1\" class=\"dataframe\">\n  <thead>\n    <tr style=\"text-align: right;\">\n      <th></th>\n      <th>Date/Time</th>\n      <th>Temp_C</th>\n      <th>Dew Point Temp_C</th>\n      <th>Rel Hum_%</th>\n      <th>Wind Speed_km/h</th>\n      <th>Visibility_km</th>\n      <th>Press_kPa</th>\n      <th>Weather Condition</th>\n    </tr>\n  </thead>\n  <tbody>\n    <tr>\n      <th>0</th>\n      <td>2012-01-01 00:00:00</td>\n      <td>-1.8</td>\n      <td>-3.9</td>\n      <td>86</td>\n      <td>4</td>\n      <td>8.0</td>\n      <td>101.24</td>\n      <td>Fog</td>\n    </tr>\n    <tr>\n      <th>1</th>\n      <td>2012-01-01 01:00:00</td>\n      <td>-1.8</td>\n      <td>-3.7</td>\n      <td>87</td>\n      <td>4</td>\n      <td>8.0</td>\n      <td>101.24</td>\n      <td>Fog</td>\n    </tr>\n    <tr>\n      <th>2</th>\n      <td>2012-01-01 02:00:00</td>\n      <td>-1.8</td>\n      <td>-3.4</td>\n      <td>89</td>\n      <td>7</td>\n      <td>4.0</td>\n      <td>101.26</td>\n      <td>Freezing Drizzle,Fog</td>\n    </tr>\n    <tr>\n      <th>3</th>\n      <td>2012-01-01 03:00:00</td>\n      <td>-1.5</td>\n      <td>-3.2</td>\n      <td>88</td>\n      <td>6</td>\n      <td>4.0</td>\n      <td>101.27</td>\n      <td>Freezing Drizzle,Fog</td>\n    </tr>\n    <tr>\n      <th>4</th>\n      <td>2012-01-01 04:00:00</td>\n      <td>-1.5</td>\n      <td>-3.3</td>\n      <td>88</td>\n      <td>7</td>\n      <td>4.8</td>\n      <td>101.23</td>\n      <td>Fog</td>\n    </tr>\n  </tbody>\n</table>\n</div>"
     },
     "metadata": {},
     "execution_count": 70
    }
   ],
   "source": [
    "data.head()"
   ]
  },
  {
   "source": [
    "Q. 6) What is the mean 'Visibility' ?"
   ],
   "cell_type": "markdown",
   "metadata": {}
  },
  {
   "cell_type": "code",
   "execution_count": 71,
   "metadata": {},
   "outputs": [
    {
     "output_type": "execute_result",
     "data": {
      "text/plain": [
       "            Date/Time  Temp_C  Dew Point Temp_C  Rel Hum_%  Wind Speed_km/h  \\\n",
       "0 2012-01-01 00:00:00    -1.8              -3.9         86                4   \n",
       "1 2012-01-01 01:00:00    -1.8              -3.7         87                4   \n",
       "\n",
       "   Visibility_km  Press_kPa Weather Condition  \n",
       "0            8.0     101.24               Fog  \n",
       "1            8.0     101.24               Fog  "
      ],
      "text/html": "<div>\n<style scoped>\n    .dataframe tbody tr th:only-of-type {\n        vertical-align: middle;\n    }\n\n    .dataframe tbody tr th {\n        vertical-align: top;\n    }\n\n    .dataframe thead th {\n        text-align: right;\n    }\n</style>\n<table border=\"1\" class=\"dataframe\">\n  <thead>\n    <tr style=\"text-align: right;\">\n      <th></th>\n      <th>Date/Time</th>\n      <th>Temp_C</th>\n      <th>Dew Point Temp_C</th>\n      <th>Rel Hum_%</th>\n      <th>Wind Speed_km/h</th>\n      <th>Visibility_km</th>\n      <th>Press_kPa</th>\n      <th>Weather Condition</th>\n    </tr>\n  </thead>\n  <tbody>\n    <tr>\n      <th>0</th>\n      <td>2012-01-01 00:00:00</td>\n      <td>-1.8</td>\n      <td>-3.9</td>\n      <td>86</td>\n      <td>4</td>\n      <td>8.0</td>\n      <td>101.24</td>\n      <td>Fog</td>\n    </tr>\n    <tr>\n      <th>1</th>\n      <td>2012-01-01 01:00:00</td>\n      <td>-1.8</td>\n      <td>-3.7</td>\n      <td>87</td>\n      <td>4</td>\n      <td>8.0</td>\n      <td>101.24</td>\n      <td>Fog</td>\n    </tr>\n  </tbody>\n</table>\n</div>"
     },
     "metadata": {},
     "execution_count": 71
    }
   ],
   "source": [
    "data.head(2)"
   ]
  },
  {
   "cell_type": "code",
   "execution_count": 73,
   "metadata": {},
   "outputs": [
    {
     "output_type": "execute_result",
     "data": {
      "text/plain": [
       "27.664"
      ]
     },
     "metadata": {},
     "execution_count": 73
    }
   ],
   "source": [
    "data.Visibility_km.mean().round(3)"
   ]
  },
  {
   "source": [
    "Q. 7) What is the Standard Deviation of 'Pressure' in this data?"
   ],
   "cell_type": "markdown",
   "metadata": {}
  },
  {
   "cell_type": "code",
   "execution_count": 75,
   "metadata": {},
   "outputs": [
    {
     "output_type": "execute_result",
     "data": {
      "text/plain": [
       "0.844"
      ]
     },
     "metadata": {},
     "execution_count": 75
    }
   ],
   "source": [
    "data.Press_kPa.std().round(3)"
   ]
  },
  {
   "source": [
    "Q. 8) What is the Variance of 'Relative Humidity' in this data ?"
   ],
   "cell_type": "markdown",
   "metadata": {}
  },
  {
   "cell_type": "code",
   "execution_count": 77,
   "metadata": {},
   "outputs": [
    {
     "output_type": "execute_result",
     "data": {
      "text/plain": [
       "286.249"
      ]
     },
     "metadata": {},
     "execution_count": 77
    }
   ],
   "source": [
    "data[\"Rel Hum_%\"].var().round(3)"
   ]
  },
  {
   "source": [
    "###Q. 9) Find all instances when 'Snow' was recorded."
   ],
   "cell_type": "markdown",
   "metadata": {}
  },
  {
   "cell_type": "code",
   "execution_count": 79,
   "metadata": {},
   "outputs": [
    {
     "output_type": "execute_result",
     "data": {
      "text/plain": [
       "   Date/Time  Temp_C  Dew Point Temp_C  Rel Hum_%  Wind Speed_km/h  \\\n",
       "0 2012-01-01    -1.8              -3.9         86                4   \n",
       "\n",
       "   Visibility_km  Press_kPa Weather Condition  \n",
       "0            8.0     101.24               Fog  "
      ],
      "text/html": "<div>\n<style scoped>\n    .dataframe tbody tr th:only-of-type {\n        vertical-align: middle;\n    }\n\n    .dataframe tbody tr th {\n        vertical-align: top;\n    }\n\n    .dataframe thead th {\n        text-align: right;\n    }\n</style>\n<table border=\"1\" class=\"dataframe\">\n  <thead>\n    <tr style=\"text-align: right;\">\n      <th></th>\n      <th>Date/Time</th>\n      <th>Temp_C</th>\n      <th>Dew Point Temp_C</th>\n      <th>Rel Hum_%</th>\n      <th>Wind Speed_km/h</th>\n      <th>Visibility_km</th>\n      <th>Press_kPa</th>\n      <th>Weather Condition</th>\n    </tr>\n  </thead>\n  <tbody>\n    <tr>\n      <th>0</th>\n      <td>2012-01-01</td>\n      <td>-1.8</td>\n      <td>-3.9</td>\n      <td>86</td>\n      <td>4</td>\n      <td>8.0</td>\n      <td>101.24</td>\n      <td>Fog</td>\n    </tr>\n  </tbody>\n</table>\n</div>"
     },
     "metadata": {},
     "execution_count": 79
    }
   ],
   "source": [
    "data.head(1)"
   ]
  },
  {
   "cell_type": "code",
   "execution_count": 80,
   "metadata": {},
   "outputs": [
    {
     "output_type": "execute_result",
     "data": {
      "text/plain": [
       "               Date/Time  Temp_C  Dew Point Temp_C  Rel Hum_%  \\\n",
       "55   2012-01-03 07:00:00   -14.0             -19.5         63   \n",
       "84   2012-01-04 12:00:00   -13.7             -21.7         51   \n",
       "86   2012-01-04 14:00:00   -11.3             -19.0         53   \n",
       "87   2012-01-04 15:00:00   -10.2             -16.3         61   \n",
       "88   2012-01-04 16:00:00    -9.4             -15.5         61   \n",
       "...                  ...     ...               ...        ...   \n",
       "8779 2012-12-31 19:00:00     0.1              -2.7         81   \n",
       "8780 2012-12-31 20:00:00     0.2              -2.4         83   \n",
       "8781 2012-12-31 21:00:00    -0.5              -1.5         93   \n",
       "8782 2012-12-31 22:00:00    -0.2              -1.8         89   \n",
       "8783 2012-12-31 23:00:00     0.0              -2.1         86   \n",
       "\n",
       "      Wind Speed_km/h  Visibility_km  Press_kPa Weather Condition  \n",
       "55                 19           25.0     100.95              Snow  \n",
       "84                 11           24.1     101.25              Snow  \n",
       "86                  7           19.3     100.97              Snow  \n",
       "87                 11            9.7     100.89              Snow  \n",
       "88                 13           19.3     100.79              Snow  \n",
       "...               ...            ...        ...               ...  \n",
       "8779               30            9.7     100.13              Snow  \n",
       "8780               24            9.7     100.03              Snow  \n",
       "8781               28            4.8      99.95              Snow  \n",
       "8782               28            9.7      99.91              Snow  \n",
       "8783               30           11.3      99.89              Snow  \n",
       "\n",
       "[390 rows x 8 columns]"
      ],
      "text/html": "<div>\n<style scoped>\n    .dataframe tbody tr th:only-of-type {\n        vertical-align: middle;\n    }\n\n    .dataframe tbody tr th {\n        vertical-align: top;\n    }\n\n    .dataframe thead th {\n        text-align: right;\n    }\n</style>\n<table border=\"1\" class=\"dataframe\">\n  <thead>\n    <tr style=\"text-align: right;\">\n      <th></th>\n      <th>Date/Time</th>\n      <th>Temp_C</th>\n      <th>Dew Point Temp_C</th>\n      <th>Rel Hum_%</th>\n      <th>Wind Speed_km/h</th>\n      <th>Visibility_km</th>\n      <th>Press_kPa</th>\n      <th>Weather Condition</th>\n    </tr>\n  </thead>\n  <tbody>\n    <tr>\n      <th>55</th>\n      <td>2012-01-03 07:00:00</td>\n      <td>-14.0</td>\n      <td>-19.5</td>\n      <td>63</td>\n      <td>19</td>\n      <td>25.0</td>\n      <td>100.95</td>\n      <td>Snow</td>\n    </tr>\n    <tr>\n      <th>84</th>\n      <td>2012-01-04 12:00:00</td>\n      <td>-13.7</td>\n      <td>-21.7</td>\n      <td>51</td>\n      <td>11</td>\n      <td>24.1</td>\n      <td>101.25</td>\n      <td>Snow</td>\n    </tr>\n    <tr>\n      <th>86</th>\n      <td>2012-01-04 14:00:00</td>\n      <td>-11.3</td>\n      <td>-19.0</td>\n      <td>53</td>\n      <td>7</td>\n      <td>19.3</td>\n      <td>100.97</td>\n      <td>Snow</td>\n    </tr>\n    <tr>\n      <th>87</th>\n      <td>2012-01-04 15:00:00</td>\n      <td>-10.2</td>\n      <td>-16.3</td>\n      <td>61</td>\n      <td>11</td>\n      <td>9.7</td>\n      <td>100.89</td>\n      <td>Snow</td>\n    </tr>\n    <tr>\n      <th>88</th>\n      <td>2012-01-04 16:00:00</td>\n      <td>-9.4</td>\n      <td>-15.5</td>\n      <td>61</td>\n      <td>13</td>\n      <td>19.3</td>\n      <td>100.79</td>\n      <td>Snow</td>\n    </tr>\n    <tr>\n      <th>...</th>\n      <td>...</td>\n      <td>...</td>\n      <td>...</td>\n      <td>...</td>\n      <td>...</td>\n      <td>...</td>\n      <td>...</td>\n      <td>...</td>\n    </tr>\n    <tr>\n      <th>8779</th>\n      <td>2012-12-31 19:00:00</td>\n      <td>0.1</td>\n      <td>-2.7</td>\n      <td>81</td>\n      <td>30</td>\n      <td>9.7</td>\n      <td>100.13</td>\n      <td>Snow</td>\n    </tr>\n    <tr>\n      <th>8780</th>\n      <td>2012-12-31 20:00:00</td>\n      <td>0.2</td>\n      <td>-2.4</td>\n      <td>83</td>\n      <td>24</td>\n      <td>9.7</td>\n      <td>100.03</td>\n      <td>Snow</td>\n    </tr>\n    <tr>\n      <th>8781</th>\n      <td>2012-12-31 21:00:00</td>\n      <td>-0.5</td>\n      <td>-1.5</td>\n      <td>93</td>\n      <td>28</td>\n      <td>4.8</td>\n      <td>99.95</td>\n      <td>Snow</td>\n    </tr>\n    <tr>\n      <th>8782</th>\n      <td>2012-12-31 22:00:00</td>\n      <td>-0.2</td>\n      <td>-1.8</td>\n      <td>89</td>\n      <td>28</td>\n      <td>9.7</td>\n      <td>99.91</td>\n      <td>Snow</td>\n    </tr>\n    <tr>\n      <th>8783</th>\n      <td>2012-12-31 23:00:00</td>\n      <td>0.0</td>\n      <td>-2.1</td>\n      <td>86</td>\n      <td>30</td>\n      <td>11.3</td>\n      <td>99.89</td>\n      <td>Snow</td>\n    </tr>\n  </tbody>\n</table>\n<p>390 rows × 8 columns</p>\n</div>"
     },
     "metadata": {},
     "execution_count": 80
    }
   ],
   "source": [
    "data[data[\"Weather Condition\"] == 'Snow']"
   ]
  },
  {
   "source": [
    "We can use the \"string contains function\""
   ],
   "cell_type": "markdown",
   "metadata": {}
  },
  {
   "cell_type": "code",
   "execution_count": 81,
   "metadata": {},
   "outputs": [
    {
     "output_type": "execute_result",
     "data": {
      "text/plain": [
       "               Date/Time  Temp_C  Dew Point Temp_C  Rel Hum_%  \\\n",
       "41   2012-01-02 17:00:00    -2.1              -9.5         57   \n",
       "44   2012-01-02 20:00:00    -5.6             -13.4         54   \n",
       "45   2012-01-02 21:00:00    -5.8             -12.8         58   \n",
       "47   2012-01-02 23:00:00    -7.4             -14.1         59   \n",
       "48   2012-01-03 00:00:00    -9.0             -16.0         57   \n",
       "...                  ...     ...               ...        ...   \n",
       "8779 2012-12-31 19:00:00     0.1              -2.7         81   \n",
       "8780 2012-12-31 20:00:00     0.2              -2.4         83   \n",
       "8781 2012-12-31 21:00:00    -0.5              -1.5         93   \n",
       "8782 2012-12-31 22:00:00    -0.2              -1.8         89   \n",
       "8783 2012-12-31 23:00:00     0.0              -2.1         86   \n",
       "\n",
       "      Wind Speed_km/h  Visibility_km  Press_kPa Weather Condition  \n",
       "41                 22           25.0      99.66      Snow Showers  \n",
       "44                 24           25.0     100.07      Snow Showers  \n",
       "45                 26           25.0     100.15      Snow Showers  \n",
       "47                 17           19.3     100.27      Snow Showers  \n",
       "48                 28           25.0     100.35      Snow Showers  \n",
       "...               ...            ...        ...               ...  \n",
       "8779               30            9.7     100.13              Snow  \n",
       "8780               24            9.7     100.03              Snow  \n",
       "8781               28            4.8      99.95              Snow  \n",
       "8782               28            9.7      99.91              Snow  \n",
       "8783               30           11.3      99.89              Snow  \n",
       "\n",
       "[583 rows x 8 columns]"
      ],
      "text/html": "<div>\n<style scoped>\n    .dataframe tbody tr th:only-of-type {\n        vertical-align: middle;\n    }\n\n    .dataframe tbody tr th {\n        vertical-align: top;\n    }\n\n    .dataframe thead th {\n        text-align: right;\n    }\n</style>\n<table border=\"1\" class=\"dataframe\">\n  <thead>\n    <tr style=\"text-align: right;\">\n      <th></th>\n      <th>Date/Time</th>\n      <th>Temp_C</th>\n      <th>Dew Point Temp_C</th>\n      <th>Rel Hum_%</th>\n      <th>Wind Speed_km/h</th>\n      <th>Visibility_km</th>\n      <th>Press_kPa</th>\n      <th>Weather Condition</th>\n    </tr>\n  </thead>\n  <tbody>\n    <tr>\n      <th>41</th>\n      <td>2012-01-02 17:00:00</td>\n      <td>-2.1</td>\n      <td>-9.5</td>\n      <td>57</td>\n      <td>22</td>\n      <td>25.0</td>\n      <td>99.66</td>\n      <td>Snow Showers</td>\n    </tr>\n    <tr>\n      <th>44</th>\n      <td>2012-01-02 20:00:00</td>\n      <td>-5.6</td>\n      <td>-13.4</td>\n      <td>54</td>\n      <td>24</td>\n      <td>25.0</td>\n      <td>100.07</td>\n      <td>Snow Showers</td>\n    </tr>\n    <tr>\n      <th>45</th>\n      <td>2012-01-02 21:00:00</td>\n      <td>-5.8</td>\n      <td>-12.8</td>\n      <td>58</td>\n      <td>26</td>\n      <td>25.0</td>\n      <td>100.15</td>\n      <td>Snow Showers</td>\n    </tr>\n    <tr>\n      <th>47</th>\n      <td>2012-01-02 23:00:00</td>\n      <td>-7.4</td>\n      <td>-14.1</td>\n      <td>59</td>\n      <td>17</td>\n      <td>19.3</td>\n      <td>100.27</td>\n      <td>Snow Showers</td>\n    </tr>\n    <tr>\n      <th>48</th>\n      <td>2012-01-03 00:00:00</td>\n      <td>-9.0</td>\n      <td>-16.0</td>\n      <td>57</td>\n      <td>28</td>\n      <td>25.0</td>\n      <td>100.35</td>\n      <td>Snow Showers</td>\n    </tr>\n    <tr>\n      <th>...</th>\n      <td>...</td>\n      <td>...</td>\n      <td>...</td>\n      <td>...</td>\n      <td>...</td>\n      <td>...</td>\n      <td>...</td>\n      <td>...</td>\n    </tr>\n    <tr>\n      <th>8779</th>\n      <td>2012-12-31 19:00:00</td>\n      <td>0.1</td>\n      <td>-2.7</td>\n      <td>81</td>\n      <td>30</td>\n      <td>9.7</td>\n      <td>100.13</td>\n      <td>Snow</td>\n    </tr>\n    <tr>\n      <th>8780</th>\n      <td>2012-12-31 20:00:00</td>\n      <td>0.2</td>\n      <td>-2.4</td>\n      <td>83</td>\n      <td>24</td>\n      <td>9.7</td>\n      <td>100.03</td>\n      <td>Snow</td>\n    </tr>\n    <tr>\n      <th>8781</th>\n      <td>2012-12-31 21:00:00</td>\n      <td>-0.5</td>\n      <td>-1.5</td>\n      <td>93</td>\n      <td>28</td>\n      <td>4.8</td>\n      <td>99.95</td>\n      <td>Snow</td>\n    </tr>\n    <tr>\n      <th>8782</th>\n      <td>2012-12-31 22:00:00</td>\n      <td>-0.2</td>\n      <td>-1.8</td>\n      <td>89</td>\n      <td>28</td>\n      <td>9.7</td>\n      <td>99.91</td>\n      <td>Snow</td>\n    </tr>\n    <tr>\n      <th>8783</th>\n      <td>2012-12-31 23:00:00</td>\n      <td>0.0</td>\n      <td>-2.1</td>\n      <td>86</td>\n      <td>30</td>\n      <td>11.3</td>\n      <td>99.89</td>\n      <td>Snow</td>\n    </tr>\n  </tbody>\n</table>\n<p>583 rows × 8 columns</p>\n</div>"
     },
     "metadata": {},
     "execution_count": 81
    }
   ],
   "source": [
    "data[data[\"Weather Condition\"].str.contains(\"Snow\")]"
   ]
  },
  {
   "source": [
    "Q. 10) Find all instances when 'Wind Speed is above 24' and 'Visibility is 25'."
   ],
   "cell_type": "markdown",
   "metadata": {}
  },
  {
   "cell_type": "code",
   "execution_count": 86,
   "metadata": {},
   "outputs": [
    {
     "output_type": "execute_result",
     "data": {
      "text/plain": [
       "               Date/Time  Temp_C  Dew Point Temp_C  Rel Hum_%  \\\n",
       "23   2012-01-01 23:00:00     5.3               2.0         79   \n",
       "24   2012-01-02 00:00:00     5.2               1.5         77   \n",
       "25   2012-01-02 01:00:00     4.6               0.0         72   \n",
       "26   2012-01-02 02:00:00     3.9              -0.9         71   \n",
       "27   2012-01-02 03:00:00     3.7              -1.5         69   \n",
       "...                  ...     ...               ...        ...   \n",
       "8705 2012-12-28 17:00:00    -8.6             -12.0         76   \n",
       "8753 2012-12-30 17:00:00   -12.1             -15.8         74   \n",
       "8755 2012-12-30 19:00:00   -13.4             -16.5         77   \n",
       "8759 2012-12-30 23:00:00   -12.1             -15.1         78   \n",
       "8760 2012-12-31 00:00:00   -11.1             -14.4         77   \n",
       "\n",
       "      Wind Speed_km/h  Visibility_km  Press_kPa Weather Condition  \n",
       "23                 30           25.0      99.31            Cloudy  \n",
       "24                 35           25.0      99.26      Rain Showers  \n",
       "25                 39           25.0      99.26            Cloudy  \n",
       "26                 32           25.0      99.26     Mostly Cloudy  \n",
       "27                 33           25.0      99.30     Mostly Cloudy  \n",
       "...               ...            ...        ...               ...  \n",
       "8705               26           25.0     101.34      Mainly Clear  \n",
       "8753               28           25.0     101.26      Mainly Clear  \n",
       "8755               26           25.0     101.47      Mainly Clear  \n",
       "8759               28           25.0     101.52     Mostly Cloudy  \n",
       "8760               26           25.0     101.51            Cloudy  \n",
       "\n",
       "[308 rows x 8 columns]"
      ],
      "text/html": "<div>\n<style scoped>\n    .dataframe tbody tr th:only-of-type {\n        vertical-align: middle;\n    }\n\n    .dataframe tbody tr th {\n        vertical-align: top;\n    }\n\n    .dataframe thead th {\n        text-align: right;\n    }\n</style>\n<table border=\"1\" class=\"dataframe\">\n  <thead>\n    <tr style=\"text-align: right;\">\n      <th></th>\n      <th>Date/Time</th>\n      <th>Temp_C</th>\n      <th>Dew Point Temp_C</th>\n      <th>Rel Hum_%</th>\n      <th>Wind Speed_km/h</th>\n      <th>Visibility_km</th>\n      <th>Press_kPa</th>\n      <th>Weather Condition</th>\n    </tr>\n  </thead>\n  <tbody>\n    <tr>\n      <th>23</th>\n      <td>2012-01-01 23:00:00</td>\n      <td>5.3</td>\n      <td>2.0</td>\n      <td>79</td>\n      <td>30</td>\n      <td>25.0</td>\n      <td>99.31</td>\n      <td>Cloudy</td>\n    </tr>\n    <tr>\n      <th>24</th>\n      <td>2012-01-02 00:00:00</td>\n      <td>5.2</td>\n      <td>1.5</td>\n      <td>77</td>\n      <td>35</td>\n      <td>25.0</td>\n      <td>99.26</td>\n      <td>Rain Showers</td>\n    </tr>\n    <tr>\n      <th>25</th>\n      <td>2012-01-02 01:00:00</td>\n      <td>4.6</td>\n      <td>0.0</td>\n      <td>72</td>\n      <td>39</td>\n      <td>25.0</td>\n      <td>99.26</td>\n      <td>Cloudy</td>\n    </tr>\n    <tr>\n      <th>26</th>\n      <td>2012-01-02 02:00:00</td>\n      <td>3.9</td>\n      <td>-0.9</td>\n      <td>71</td>\n      <td>32</td>\n      <td>25.0</td>\n      <td>99.26</td>\n      <td>Mostly Cloudy</td>\n    </tr>\n    <tr>\n      <th>27</th>\n      <td>2012-01-02 03:00:00</td>\n      <td>3.7</td>\n      <td>-1.5</td>\n      <td>69</td>\n      <td>33</td>\n      <td>25.0</td>\n      <td>99.30</td>\n      <td>Mostly Cloudy</td>\n    </tr>\n    <tr>\n      <th>...</th>\n      <td>...</td>\n      <td>...</td>\n      <td>...</td>\n      <td>...</td>\n      <td>...</td>\n      <td>...</td>\n      <td>...</td>\n      <td>...</td>\n    </tr>\n    <tr>\n      <th>8705</th>\n      <td>2012-12-28 17:00:00</td>\n      <td>-8.6</td>\n      <td>-12.0</td>\n      <td>76</td>\n      <td>26</td>\n      <td>25.0</td>\n      <td>101.34</td>\n      <td>Mainly Clear</td>\n    </tr>\n    <tr>\n      <th>8753</th>\n      <td>2012-12-30 17:00:00</td>\n      <td>-12.1</td>\n      <td>-15.8</td>\n      <td>74</td>\n      <td>28</td>\n      <td>25.0</td>\n      <td>101.26</td>\n      <td>Mainly Clear</td>\n    </tr>\n    <tr>\n      <th>8755</th>\n      <td>2012-12-30 19:00:00</td>\n      <td>-13.4</td>\n      <td>-16.5</td>\n      <td>77</td>\n      <td>26</td>\n      <td>25.0</td>\n      <td>101.47</td>\n      <td>Mainly Clear</td>\n    </tr>\n    <tr>\n      <th>8759</th>\n      <td>2012-12-30 23:00:00</td>\n      <td>-12.1</td>\n      <td>-15.1</td>\n      <td>78</td>\n      <td>28</td>\n      <td>25.0</td>\n      <td>101.52</td>\n      <td>Mostly Cloudy</td>\n    </tr>\n    <tr>\n      <th>8760</th>\n      <td>2012-12-31 00:00:00</td>\n      <td>-11.1</td>\n      <td>-14.4</td>\n      <td>77</td>\n      <td>26</td>\n      <td>25.0</td>\n      <td>101.51</td>\n      <td>Cloudy</td>\n    </tr>\n  </tbody>\n</table>\n<p>308 rows × 8 columns</p>\n</div>"
     },
     "metadata": {},
     "execution_count": 86
    }
   ],
   "source": [
    "data[(data[\"Wind Speed_km/h\"] > 24) & (data[\"Visibility_km\"] == 25)]"
   ]
  },
  {
   "source": [
    "Q. 11) What is the Mean value of each column against each 'Weather Condition ?"
   ],
   "cell_type": "markdown",
   "metadata": {}
  },
  {
   "cell_type": "code",
   "execution_count": 90,
   "metadata": {},
   "outputs": [
    {
     "output_type": "execute_result",
     "data": {
      "text/plain": [
       "                                          Temp_C  Dew Point Temp_C  Rel Hum_%  \\\n",
       "Weather Condition                                                               \n",
       "Clear                                     6.8257            0.0894    64.4977   \n",
       "Cloudy                                    7.9705            2.3758    69.5926   \n",
       "Drizzle                                   7.3537            5.5049    88.2439   \n",
       "Drizzle,Fog                               8.0675            7.0338    93.2750   \n",
       "Drizzle,Ice Pellets,Fog                   0.4000           -0.7000    92.0000   \n",
       "Drizzle,Snow                              1.0500            0.1500    93.5000   \n",
       "Drizzle,Snow,Fog                          0.6933            0.1200    95.8667   \n",
       "Fog                                       4.3033            3.1593    92.2867   \n",
       "Freezing Drizzle                         -5.6571           -8.0000    83.5714   \n",
       "Freezing Drizzle,Fog                     -2.5333           -4.1833    88.5000   \n",
       "Freezing Drizzle,Haze                    -5.4333           -8.0000    82.0000   \n",
       "Freezing Drizzle,Snow                    -5.1091           -7.0727    86.0909   \n",
       "Freezing Fog                             -7.5750           -9.2500    87.7500   \n",
       "Freezing Rain                            -3.8857           -6.0786    84.6429   \n",
       "Freezing Rain,Fog                        -2.2250           -3.7500    89.5000   \n",
       "Freezing Rain,Haze                       -4.9000           -7.4500    82.5000   \n",
       "Freezing Rain,Ice Pellets,Fog            -2.6000           -3.7000    92.0000   \n",
       "Freezing Rain,Snow Grains                -5.0000           -7.3000    84.0000   \n",
       "Haze                                     -0.2000           -2.9750    81.6250   \n",
       "Mainly Clear                             12.5589            4.5817    60.6671   \n",
       "Moderate Rain,Fog                         1.7000            0.8000    94.0000   \n",
       "Moderate Snow                            -5.5250           -7.2500    87.7500   \n",
       "Moderate Snow,Blowing Snow               -5.4500           -6.5000    92.5000   \n",
       "Mostly Cloudy                            10.5743            3.1312    62.1025   \n",
       "Rain                                      9.7863            7.0428    83.6242   \n",
       "Rain Showers                             13.7223            9.1878    75.1596   \n",
       "Rain Showers,Fog                         12.8000           12.1000    96.0000   \n",
       "Rain Showers,Snow Showers                 2.1500           -1.5000    76.5000   \n",
       "Rain,Fog                                  8.2733            7.2198    93.1897   \n",
       "Rain,Haze                                 4.6333            2.0667    83.3333   \n",
       "Rain,Ice Pellets                          0.6000           -0.6000    92.0000   \n",
       "Rain,Snow                                 1.0556           -0.5667    89.0000   \n",
       "Rain,Snow Grains                          1.9000           -2.1000    75.0000   \n",
       "Rain,Snow,Fog                             0.8000            0.3000    96.0000   \n",
       "Rain,Snow,Ice Pellets                     1.1000           -0.1750    91.5000   \n",
       "Snow                                     -4.5241           -7.6233    79.3077   \n",
       "Snow Pellets                              0.7000           -6.4000    59.0000   \n",
       "Snow Showers                             -3.5067           -7.8667    72.3500   \n",
       "Snow Showers,Fog                        -10.6750          -11.9000    90.7500   \n",
       "Snow,Blowing Snow                        -5.4105           -7.6211    84.4737   \n",
       "Snow,Fog                                 -5.0757           -6.3649    90.6757   \n",
       "Snow,Haze                                -4.0200           -6.8600    80.6000   \n",
       "Snow,Ice Pellets                         -1.8833           -3.6667    87.6667   \n",
       "Thunderstorms                            24.1500           19.7500    77.0000   \n",
       "Thunderstorms,Heavy Rain Showers         10.9000            9.0000    88.0000   \n",
       "Thunderstorms,Moderate Rain Showers,Fog  19.6000           18.5000    93.0000   \n",
       "Thunderstorms,Rain                       20.4333           18.5333    89.0000   \n",
       "Thunderstorms,Rain Showers               20.0375           17.6188    86.3750   \n",
       "Thunderstorms,Rain Showers,Fog           21.6000           18.7000    84.0000   \n",
       "Thunderstorms,Rain,Fog                   20.6000           18.6000    88.0000   \n",
       "\n",
       "                                         Wind Speed_km/h  Visibility_km  \\\n",
       "Weather Condition                                                         \n",
       "Clear                                            10.5573        30.1532   \n",
       "Cloudy                                           16.1273        26.6258   \n",
       "Drizzle                                          16.0976        17.9317   \n",
       "Drizzle,Fog                                      11.8625         5.2575   \n",
       "Drizzle,Ice Pellets,Fog                          20.0000         4.0000   \n",
       "Drizzle,Snow                                     14.0000        10.5000   \n",
       "Drizzle,Snow,Fog                                 15.5333         5.5133   \n",
       "Fog                                               7.9467         6.2480   \n",
       "Freezing Drizzle                                 16.5714         9.2000   \n",
       "Freezing Drizzle,Fog                             17.0000         5.2667   \n",
       "Freezing Drizzle,Haze                            10.3333         2.6667   \n",
       "Freezing Drizzle,Snow                            16.2727         5.8727   \n",
       "Freezing Fog                                      4.7500         0.6500   \n",
       "Freezing Rain                                    19.2143         8.2429   \n",
       "Freezing Rain,Fog                                15.5000         7.5500   \n",
       "Freezing Rain,Haze                                7.5000         2.4000   \n",
       "Freezing Rain,Ice Pellets,Fog                    28.0000         8.0000   \n",
       "Freezing Rain,Snow Grains                        32.0000         4.8000   \n",
       "Haze                                             10.4375         7.8312   \n",
       "Mainly Clear                                     14.1448        34.2649   \n",
       "Moderate Rain,Fog                                17.0000         6.4000   \n",
       "Moderate Snow                                    33.7500         0.7500   \n",
       "Moderate Snow,Blowing Snow                       40.0000         0.6000   \n",
       "Mostly Cloudy                                    15.8139        31.2538   \n",
       "Rain                                             19.2549        18.8565   \n",
       "Rain Showers                                     17.1330        22.8165   \n",
       "Rain Showers,Fog                                 13.0000         6.4000   \n",
       "Rain Showers,Snow Showers                        22.5000        21.7000   \n",
       "Rain,Fog                                         14.7931         6.8733   \n",
       "Rain,Haze                                        11.6667         6.7000   \n",
       "Rain,Ice Pellets                                 24.0000         9.7000   \n",
       "Rain,Snow                                        28.3889        11.6722   \n",
       "Rain,Snow Grains                                 26.0000        25.0000   \n",
       "Rain,Snow,Fog                                     9.0000         6.4000   \n",
       "Rain,Snow,Ice Pellets                            23.2500         6.0000   \n",
       "Snow                                             20.0385        11.1718   \n",
       "Snow Pellets                                     35.0000         2.4000   \n",
       "Snow Showers                                     19.2333        20.1583   \n",
       "Snow Showers,Fog                                 13.7500         7.0250   \n",
       "Snow,Blowing Snow                                34.8421         4.1053   \n",
       "Snow,Fog                                         17.3243         4.5378   \n",
       "Snow,Haze                                         5.0000         4.6400   \n",
       "Snow,Ice Pellets                                 23.8333         7.4167   \n",
       "Thunderstorms                                     7.5000        24.5500   \n",
       "Thunderstorms,Heavy Rain Showers                  9.0000         2.4000   \n",
       "Thunderstorms,Moderate Rain Showers,Fog          15.0000         3.2000   \n",
       "Thunderstorms,Rain                               15.6667        19.8333   \n",
       "Thunderstorms,Rain Showers                       18.3125        15.8938   \n",
       "Thunderstorms,Rain Showers,Fog                   19.6667         9.7000   \n",
       "Thunderstorms,Rain,Fog                           19.0000         4.8000   \n",
       "\n",
       "                                         Press_kPa  \n",
       "Weather Condition                                   \n",
       "Clear                                     101.5874  \n",
       "Cloudy                                    100.9114  \n",
       "Drizzle                                   100.4354  \n",
       "Drizzle,Fog                               100.7866  \n",
       "Drizzle,Ice Pellets,Fog                   100.7900  \n",
       "Drizzle,Snow                              100.8900  \n",
       "Drizzle,Snow,Fog                           99.2813  \n",
       "Fog                                       101.1841  \n",
       "Freezing Drizzle                          100.2029  \n",
       "Freezing Drizzle,Fog                      100.4417  \n",
       "Freezing Drizzle,Haze                     100.3167  \n",
       "Freezing Drizzle,Snow                     100.5209  \n",
       "Freezing Fog                              102.3200  \n",
       "Freezing Rain                              99.6471  \n",
       "Freezing Rain,Fog                          99.9450  \n",
       "Freezing Rain,Haze                        100.3750  \n",
       "Freezing Rain,Ice Pellets,Fog             100.9500  \n",
       "Freezing Rain,Snow Grains                  98.5600  \n",
       "Haze                                      101.4825  \n",
       "Mainly Clear                              101.2488  \n",
       "Moderate Rain,Fog                          99.9800  \n",
       "Moderate Snow                             100.2750  \n",
       "Moderate Snow,Blowing Snow                100.5700  \n",
       "Mostly Cloudy                             101.0253  \n",
       "Rain                                      100.2333  \n",
       "Rain Showers                              100.4040  \n",
       "Rain Showers,Fog                           99.8300  \n",
       "Rain Showers,Snow Showers                 101.1000  \n",
       "Rain,Fog                                  100.5009  \n",
       "Rain,Haze                                 100.5400  \n",
       "Rain,Ice Pellets                          100.1200  \n",
       "Rain,Snow                                  99.9511  \n",
       "Rain,Snow Grains                          100.6000  \n",
       "Rain,Snow,Fog                             100.7300  \n",
       "Rain,Snow,Ice Pellets                     100.1050  \n",
       "Snow                                      100.5361  \n",
       "Snow Pellets                               99.7000  \n",
       "Snow Showers                              100.9635  \n",
       "Snow Showers,Fog                          101.2925  \n",
       "Snow,Blowing Snow                          99.7047  \n",
       "Snow,Fog                                  100.6886  \n",
       "Snow,Haze                                 100.7820  \n",
       "Snow,Ice Pellets                          100.5483  \n",
       "Thunderstorms                             100.2300  \n",
       "Thunderstorms,Heavy Rain Showers          100.2600  \n",
       "Thunderstorms,Moderate Rain Showers,Fog   100.0100  \n",
       "Thunderstorms,Rain                        100.4200  \n",
       "Thunderstorms,Rain Showers                100.2337  \n",
       "Thunderstorms,Rain Showers,Fog            100.0633  \n",
       "Thunderstorms,Rain,Fog                    100.0800  "
      ],
      "text/html": "<div>\n<style scoped>\n    .dataframe tbody tr th:only-of-type {\n        vertical-align: middle;\n    }\n\n    .dataframe tbody tr th {\n        vertical-align: top;\n    }\n\n    .dataframe thead th {\n        text-align: right;\n    }\n</style>\n<table border=\"1\" class=\"dataframe\">\n  <thead>\n    <tr style=\"text-align: right;\">\n      <th></th>\n      <th>Temp_C</th>\n      <th>Dew Point Temp_C</th>\n      <th>Rel Hum_%</th>\n      <th>Wind Speed_km/h</th>\n      <th>Visibility_km</th>\n      <th>Press_kPa</th>\n    </tr>\n    <tr>\n      <th>Weather Condition</th>\n      <th></th>\n      <th></th>\n      <th></th>\n      <th></th>\n      <th></th>\n      <th></th>\n    </tr>\n  </thead>\n  <tbody>\n    <tr>\n      <th>Clear</th>\n      <td>6.8257</td>\n      <td>0.0894</td>\n      <td>64.4977</td>\n      <td>10.5573</td>\n      <td>30.1532</td>\n      <td>101.5874</td>\n    </tr>\n    <tr>\n      <th>Cloudy</th>\n      <td>7.9705</td>\n      <td>2.3758</td>\n      <td>69.5926</td>\n      <td>16.1273</td>\n      <td>26.6258</td>\n      <td>100.9114</td>\n    </tr>\n    <tr>\n      <th>Drizzle</th>\n      <td>7.3537</td>\n      <td>5.5049</td>\n      <td>88.2439</td>\n      <td>16.0976</td>\n      <td>17.9317</td>\n      <td>100.4354</td>\n    </tr>\n    <tr>\n      <th>Drizzle,Fog</th>\n      <td>8.0675</td>\n      <td>7.0338</td>\n      <td>93.2750</td>\n      <td>11.8625</td>\n      <td>5.2575</td>\n      <td>100.7866</td>\n    </tr>\n    <tr>\n      <th>Drizzle,Ice Pellets,Fog</th>\n      <td>0.4000</td>\n      <td>-0.7000</td>\n      <td>92.0000</td>\n      <td>20.0000</td>\n      <td>4.0000</td>\n      <td>100.7900</td>\n    </tr>\n    <tr>\n      <th>Drizzle,Snow</th>\n      <td>1.0500</td>\n      <td>0.1500</td>\n      <td>93.5000</td>\n      <td>14.0000</td>\n      <td>10.5000</td>\n      <td>100.8900</td>\n    </tr>\n    <tr>\n      <th>Drizzle,Snow,Fog</th>\n      <td>0.6933</td>\n      <td>0.1200</td>\n      <td>95.8667</td>\n      <td>15.5333</td>\n      <td>5.5133</td>\n      <td>99.2813</td>\n    </tr>\n    <tr>\n      <th>Fog</th>\n      <td>4.3033</td>\n      <td>3.1593</td>\n      <td>92.2867</td>\n      <td>7.9467</td>\n      <td>6.2480</td>\n      <td>101.1841</td>\n    </tr>\n    <tr>\n      <th>Freezing Drizzle</th>\n      <td>-5.6571</td>\n      <td>-8.0000</td>\n      <td>83.5714</td>\n      <td>16.5714</td>\n      <td>9.2000</td>\n      <td>100.2029</td>\n    </tr>\n    <tr>\n      <th>Freezing Drizzle,Fog</th>\n      <td>-2.5333</td>\n      <td>-4.1833</td>\n      <td>88.5000</td>\n      <td>17.0000</td>\n      <td>5.2667</td>\n      <td>100.4417</td>\n    </tr>\n    <tr>\n      <th>Freezing Drizzle,Haze</th>\n      <td>-5.4333</td>\n      <td>-8.0000</td>\n      <td>82.0000</td>\n      <td>10.3333</td>\n      <td>2.6667</td>\n      <td>100.3167</td>\n    </tr>\n    <tr>\n      <th>Freezing Drizzle,Snow</th>\n      <td>-5.1091</td>\n      <td>-7.0727</td>\n      <td>86.0909</td>\n      <td>16.2727</td>\n      <td>5.8727</td>\n      <td>100.5209</td>\n    </tr>\n    <tr>\n      <th>Freezing Fog</th>\n      <td>-7.5750</td>\n      <td>-9.2500</td>\n      <td>87.7500</td>\n      <td>4.7500</td>\n      <td>0.6500</td>\n      <td>102.3200</td>\n    </tr>\n    <tr>\n      <th>Freezing Rain</th>\n      <td>-3.8857</td>\n      <td>-6.0786</td>\n      <td>84.6429</td>\n      <td>19.2143</td>\n      <td>8.2429</td>\n      <td>99.6471</td>\n    </tr>\n    <tr>\n      <th>Freezing Rain,Fog</th>\n      <td>-2.2250</td>\n      <td>-3.7500</td>\n      <td>89.5000</td>\n      <td>15.5000</td>\n      <td>7.5500</td>\n      <td>99.9450</td>\n    </tr>\n    <tr>\n      <th>Freezing Rain,Haze</th>\n      <td>-4.9000</td>\n      <td>-7.4500</td>\n      <td>82.5000</td>\n      <td>7.5000</td>\n      <td>2.4000</td>\n      <td>100.3750</td>\n    </tr>\n    <tr>\n      <th>Freezing Rain,Ice Pellets,Fog</th>\n      <td>-2.6000</td>\n      <td>-3.7000</td>\n      <td>92.0000</td>\n      <td>28.0000</td>\n      <td>8.0000</td>\n      <td>100.9500</td>\n    </tr>\n    <tr>\n      <th>Freezing Rain,Snow Grains</th>\n      <td>-5.0000</td>\n      <td>-7.3000</td>\n      <td>84.0000</td>\n      <td>32.0000</td>\n      <td>4.8000</td>\n      <td>98.5600</td>\n    </tr>\n    <tr>\n      <th>Haze</th>\n      <td>-0.2000</td>\n      <td>-2.9750</td>\n      <td>81.6250</td>\n      <td>10.4375</td>\n      <td>7.8312</td>\n      <td>101.4825</td>\n    </tr>\n    <tr>\n      <th>Mainly Clear</th>\n      <td>12.5589</td>\n      <td>4.5817</td>\n      <td>60.6671</td>\n      <td>14.1448</td>\n      <td>34.2649</td>\n      <td>101.2488</td>\n    </tr>\n    <tr>\n      <th>Moderate Rain,Fog</th>\n      <td>1.7000</td>\n      <td>0.8000</td>\n      <td>94.0000</td>\n      <td>17.0000</td>\n      <td>6.4000</td>\n      <td>99.9800</td>\n    </tr>\n    <tr>\n      <th>Moderate Snow</th>\n      <td>-5.5250</td>\n      <td>-7.2500</td>\n      <td>87.7500</td>\n      <td>33.7500</td>\n      <td>0.7500</td>\n      <td>100.2750</td>\n    </tr>\n    <tr>\n      <th>Moderate Snow,Blowing Snow</th>\n      <td>-5.4500</td>\n      <td>-6.5000</td>\n      <td>92.5000</td>\n      <td>40.0000</td>\n      <td>0.6000</td>\n      <td>100.5700</td>\n    </tr>\n    <tr>\n      <th>Mostly Cloudy</th>\n      <td>10.5743</td>\n      <td>3.1312</td>\n      <td>62.1025</td>\n      <td>15.8139</td>\n      <td>31.2538</td>\n      <td>101.0253</td>\n    </tr>\n    <tr>\n      <th>Rain</th>\n      <td>9.7863</td>\n      <td>7.0428</td>\n      <td>83.6242</td>\n      <td>19.2549</td>\n      <td>18.8565</td>\n      <td>100.2333</td>\n    </tr>\n    <tr>\n      <th>Rain Showers</th>\n      <td>13.7223</td>\n      <td>9.1878</td>\n      <td>75.1596</td>\n      <td>17.1330</td>\n      <td>22.8165</td>\n      <td>100.4040</td>\n    </tr>\n    <tr>\n      <th>Rain Showers,Fog</th>\n      <td>12.8000</td>\n      <td>12.1000</td>\n      <td>96.0000</td>\n      <td>13.0000</td>\n      <td>6.4000</td>\n      <td>99.8300</td>\n    </tr>\n    <tr>\n      <th>Rain Showers,Snow Showers</th>\n      <td>2.1500</td>\n      <td>-1.5000</td>\n      <td>76.5000</td>\n      <td>22.5000</td>\n      <td>21.7000</td>\n      <td>101.1000</td>\n    </tr>\n    <tr>\n      <th>Rain,Fog</th>\n      <td>8.2733</td>\n      <td>7.2198</td>\n      <td>93.1897</td>\n      <td>14.7931</td>\n      <td>6.8733</td>\n      <td>100.5009</td>\n    </tr>\n    <tr>\n      <th>Rain,Haze</th>\n      <td>4.6333</td>\n      <td>2.0667</td>\n      <td>83.3333</td>\n      <td>11.6667</td>\n      <td>6.7000</td>\n      <td>100.5400</td>\n    </tr>\n    <tr>\n      <th>Rain,Ice Pellets</th>\n      <td>0.6000</td>\n      <td>-0.6000</td>\n      <td>92.0000</td>\n      <td>24.0000</td>\n      <td>9.7000</td>\n      <td>100.1200</td>\n    </tr>\n    <tr>\n      <th>Rain,Snow</th>\n      <td>1.0556</td>\n      <td>-0.5667</td>\n      <td>89.0000</td>\n      <td>28.3889</td>\n      <td>11.6722</td>\n      <td>99.9511</td>\n    </tr>\n    <tr>\n      <th>Rain,Snow Grains</th>\n      <td>1.9000</td>\n      <td>-2.1000</td>\n      <td>75.0000</td>\n      <td>26.0000</td>\n      <td>25.0000</td>\n      <td>100.6000</td>\n    </tr>\n    <tr>\n      <th>Rain,Snow,Fog</th>\n      <td>0.8000</td>\n      <td>0.3000</td>\n      <td>96.0000</td>\n      <td>9.0000</td>\n      <td>6.4000</td>\n      <td>100.7300</td>\n    </tr>\n    <tr>\n      <th>Rain,Snow,Ice Pellets</th>\n      <td>1.1000</td>\n      <td>-0.1750</td>\n      <td>91.5000</td>\n      <td>23.2500</td>\n      <td>6.0000</td>\n      <td>100.1050</td>\n    </tr>\n    <tr>\n      <th>Snow</th>\n      <td>-4.5241</td>\n      <td>-7.6233</td>\n      <td>79.3077</td>\n      <td>20.0385</td>\n      <td>11.1718</td>\n      <td>100.5361</td>\n    </tr>\n    <tr>\n      <th>Snow Pellets</th>\n      <td>0.7000</td>\n      <td>-6.4000</td>\n      <td>59.0000</td>\n      <td>35.0000</td>\n      <td>2.4000</td>\n      <td>99.7000</td>\n    </tr>\n    <tr>\n      <th>Snow Showers</th>\n      <td>-3.5067</td>\n      <td>-7.8667</td>\n      <td>72.3500</td>\n      <td>19.2333</td>\n      <td>20.1583</td>\n      <td>100.9635</td>\n    </tr>\n    <tr>\n      <th>Snow Showers,Fog</th>\n      <td>-10.6750</td>\n      <td>-11.9000</td>\n      <td>90.7500</td>\n      <td>13.7500</td>\n      <td>7.0250</td>\n      <td>101.2925</td>\n    </tr>\n    <tr>\n      <th>Snow,Blowing Snow</th>\n      <td>-5.4105</td>\n      <td>-7.6211</td>\n      <td>84.4737</td>\n      <td>34.8421</td>\n      <td>4.1053</td>\n      <td>99.7047</td>\n    </tr>\n    <tr>\n      <th>Snow,Fog</th>\n      <td>-5.0757</td>\n      <td>-6.3649</td>\n      <td>90.6757</td>\n      <td>17.3243</td>\n      <td>4.5378</td>\n      <td>100.6886</td>\n    </tr>\n    <tr>\n      <th>Snow,Haze</th>\n      <td>-4.0200</td>\n      <td>-6.8600</td>\n      <td>80.6000</td>\n      <td>5.0000</td>\n      <td>4.6400</td>\n      <td>100.7820</td>\n    </tr>\n    <tr>\n      <th>Snow,Ice Pellets</th>\n      <td>-1.8833</td>\n      <td>-3.6667</td>\n      <td>87.6667</td>\n      <td>23.8333</td>\n      <td>7.4167</td>\n      <td>100.5483</td>\n    </tr>\n    <tr>\n      <th>Thunderstorms</th>\n      <td>24.1500</td>\n      <td>19.7500</td>\n      <td>77.0000</td>\n      <td>7.5000</td>\n      <td>24.5500</td>\n      <td>100.2300</td>\n    </tr>\n    <tr>\n      <th>Thunderstorms,Heavy Rain Showers</th>\n      <td>10.9000</td>\n      <td>9.0000</td>\n      <td>88.0000</td>\n      <td>9.0000</td>\n      <td>2.4000</td>\n      <td>100.2600</td>\n    </tr>\n    <tr>\n      <th>Thunderstorms,Moderate Rain Showers,Fog</th>\n      <td>19.6000</td>\n      <td>18.5000</td>\n      <td>93.0000</td>\n      <td>15.0000</td>\n      <td>3.2000</td>\n      <td>100.0100</td>\n    </tr>\n    <tr>\n      <th>Thunderstorms,Rain</th>\n      <td>20.4333</td>\n      <td>18.5333</td>\n      <td>89.0000</td>\n      <td>15.6667</td>\n      <td>19.8333</td>\n      <td>100.4200</td>\n    </tr>\n    <tr>\n      <th>Thunderstorms,Rain Showers</th>\n      <td>20.0375</td>\n      <td>17.6188</td>\n      <td>86.3750</td>\n      <td>18.3125</td>\n      <td>15.8938</td>\n      <td>100.2337</td>\n    </tr>\n    <tr>\n      <th>Thunderstorms,Rain Showers,Fog</th>\n      <td>21.6000</td>\n      <td>18.7000</td>\n      <td>84.0000</td>\n      <td>19.6667</td>\n      <td>9.7000</td>\n      <td>100.0633</td>\n    </tr>\n    <tr>\n      <th>Thunderstorms,Rain,Fog</th>\n      <td>20.6000</td>\n      <td>18.6000</td>\n      <td>88.0000</td>\n      <td>19.0000</td>\n      <td>4.8000</td>\n      <td>100.0800</td>\n    </tr>\n  </tbody>\n</table>\n</div>"
     },
     "metadata": {},
     "execution_count": 90
    }
   ],
   "source": [
    "data.groupby(\"Weather Condition\").mean().round(4)"
   ]
  },
  {
   "source": [
    "Q. 12) What is the Minimum & Maximum value of each column against each 'Weather Condition ?"
   ],
   "cell_type": "markdown",
   "metadata": {}
  },
  {
   "cell_type": "code",
   "execution_count": 92,
   "metadata": {},
   "outputs": [
    {
     "output_type": "execute_result",
     "data": {
      "text/plain": [
       "   Date/Time  Temp_C  Dew Point Temp_C  Rel Hum_%  Wind Speed_km/h  \\\n",
       "0 2012-01-01    -1.8              -3.9         86                4   \n",
       "\n",
       "   Visibility_km  Press_kPa Weather Condition  \n",
       "0            8.0     101.24               Fog  "
      ],
      "text/html": "<div>\n<style scoped>\n    .dataframe tbody tr th:only-of-type {\n        vertical-align: middle;\n    }\n\n    .dataframe tbody tr th {\n        vertical-align: top;\n    }\n\n    .dataframe thead th {\n        text-align: right;\n    }\n</style>\n<table border=\"1\" class=\"dataframe\">\n  <thead>\n    <tr style=\"text-align: right;\">\n      <th></th>\n      <th>Date/Time</th>\n      <th>Temp_C</th>\n      <th>Dew Point Temp_C</th>\n      <th>Rel Hum_%</th>\n      <th>Wind Speed_km/h</th>\n      <th>Visibility_km</th>\n      <th>Press_kPa</th>\n      <th>Weather Condition</th>\n    </tr>\n  </thead>\n  <tbody>\n    <tr>\n      <th>0</th>\n      <td>2012-01-01</td>\n      <td>-1.8</td>\n      <td>-3.9</td>\n      <td>86</td>\n      <td>4</td>\n      <td>8.0</td>\n      <td>101.24</td>\n      <td>Fog</td>\n    </tr>\n  </tbody>\n</table>\n</div>"
     },
     "metadata": {},
     "execution_count": 92
    }
   ],
   "source": [
    "data.head(1)"
   ]
  },
  {
   "cell_type": "code",
   "execution_count": 93,
   "metadata": {},
   "outputs": [
    {
     "output_type": "execute_result",
     "data": {
      "text/plain": [
       "                                                  Date/Time  Temp_C  \\\n",
       "Weather Condition                                                     \n",
       "Clear                                   2012-01-03 19:00:00   -23.3   \n",
       "Cloudy                                  2012-01-01 17:00:00   -21.4   \n",
       "Drizzle                                 2012-01-23 21:00:00     1.1   \n",
       "Drizzle,Fog                             2012-01-23 20:00:00     0.0   \n",
       "Drizzle,Ice Pellets,Fog                 2012-12-17 09:00:00     0.4   \n",
       "Drizzle,Snow                            2012-12-17 15:00:00     0.9   \n",
       "Drizzle,Snow,Fog                        2012-12-18 21:00:00     0.3   \n",
       "Fog                                     2012-01-01 00:00:00   -16.0   \n",
       "Freezing Drizzle                        2012-01-07 11:00:00    -9.0   \n",
       "Freezing Drizzle,Fog                    2012-01-01 02:00:00    -6.4   \n",
       "Freezing Drizzle,Haze                   2012-02-01 11:00:00    -5.8   \n",
       "Freezing Drizzle,Snow                   2012-01-13 03:00:00    -8.3   \n",
       "Freezing Fog                            2012-01-22 06:00:00   -19.0   \n",
       "Freezing Rain                           2012-01-07 10:00:00    -6.5   \n",
       "Freezing Rain,Fog                       2012-01-07 09:00:00    -6.1   \n",
       "Freezing Rain,Haze                      2012-02-01 14:00:00    -4.9   \n",
       "Freezing Rain,Ice Pellets,Fog           2012-12-17 03:00:00    -2.6   \n",
       "Freezing Rain,Snow Grains               2012-01-13 09:00:00    -5.0   \n",
       "Haze                                    2012-01-22 12:00:00   -11.5   \n",
       "Mainly Clear                            2012-01-02 12:00:00   -22.8   \n",
       "Moderate Rain,Fog                       2012-12-10 08:00:00     1.7   \n",
       "Moderate Snow                           2012-01-12 15:00:00    -6.3   \n",
       "Moderate Snow,Blowing Snow              2012-12-27 10:00:00    -5.5   \n",
       "Mostly Cloudy                           2012-01-01 16:00:00   -23.2   \n",
       "Rain                                    2012-01-01 18:00:00     0.3   \n",
       "Rain Showers                            2012-01-01 22:00:00     1.6   \n",
       "Rain Showers,Fog                        2012-10-20 03:00:00    12.8   \n",
       "Rain Showers,Snow Showers               2012-11-04 08:00:00     2.1   \n",
       "Rain,Fog                                2012-01-23 18:00:00     0.0   \n",
       "Rain,Haze                               2012-03-13 07:00:00     4.0   \n",
       "Rain,Ice Pellets                        2012-12-18 05:00:00     0.6   \n",
       "Rain,Snow                               2012-01-10 05:00:00     0.6   \n",
       "Rain,Snow Grains                        2012-12-21 00:00:00     1.9   \n",
       "Rain,Snow,Fog                           2012-12-08 21:00:00     0.8   \n",
       "Rain,Snow,Ice Pellets                   2012-12-21 01:00:00     0.9   \n",
       "Snow                                    2012-01-03 07:00:00   -16.7   \n",
       "Snow Pellets                            2012-11-24 15:00:00     0.7   \n",
       "Snow Showers                            2012-01-02 17:00:00   -13.3   \n",
       "Snow Showers,Fog                        2012-12-26 09:00:00   -11.3   \n",
       "Snow,Blowing Snow                       2012-01-13 21:00:00   -12.0   \n",
       "Snow,Fog                                2012-02-10 23:00:00   -10.1   \n",
       "Snow,Haze                               2012-02-01 17:00:00    -4.3   \n",
       "Snow,Ice Pellets                        2012-03-03 04:00:00    -4.3   \n",
       "Thunderstorms                           2012-07-04 16:00:00    21.6   \n",
       "Thunderstorms,Heavy Rain Showers        2012-05-29 06:00:00    10.9   \n",
       "Thunderstorms,Moderate Rain Showers,Fog 2012-07-17 06:00:00    19.6   \n",
       "Thunderstorms,Rain                      2012-05-25 20:00:00    19.4   \n",
       "Thunderstorms,Rain Showers              2012-05-29 04:00:00    11.0   \n",
       "Thunderstorms,Rain Showers,Fog          2012-06-29 03:00:00    19.5   \n",
       "Thunderstorms,Rain,Fog                  2012-07-17 05:00:00    20.6   \n",
       "\n",
       "                                         Dew Point Temp_C  Rel Hum_%  \\\n",
       "Weather Condition                                                      \n",
       "Clear                                               -28.5         20   \n",
       "Cloudy                                              -26.8         18   \n",
       "Drizzle                                              -0.2         74   \n",
       "Drizzle,Fog                                          -1.6         85   \n",
       "Drizzle,Ice Pellets,Fog                              -0.7         92   \n",
       "Drizzle,Snow                                          0.1         92   \n",
       "Drizzle,Snow,Fog                                     -0.1         92   \n",
       "Fog                                                 -17.2         80   \n",
       "Freezing Drizzle                                    -12.2         78   \n",
       "Freezing Drizzle,Fog                                 -9.0         82   \n",
       "Freezing Drizzle,Haze                                -8.3         81   \n",
       "Freezing Drizzle,Snow                               -10.4         79   \n",
       "Freezing Fog                                        -22.9         71   \n",
       "Freezing Rain                                        -9.0         81   \n",
       "Freezing Rain,Fog                                    -8.7         82   \n",
       "Freezing Rain,Haze                                   -7.5         82   \n",
       "Freezing Rain,Ice Pellets,Fog                        -3.7         92   \n",
       "Freezing Rain,Snow Grains                            -7.3         84   \n",
       "Haze                                                -16.0         68   \n",
       "Mainly Clear                                        -28.0         20   \n",
       "Moderate Rain,Fog                                     0.8         94   \n",
       "Moderate Snow                                        -7.6         83   \n",
       "Moderate Snow,Blowing Snow                           -6.6         92   \n",
       "Mostly Cloudy                                       -28.5         18   \n",
       "Rain                                                 -5.7         40   \n",
       "Rain Showers                                         -7.2         37   \n",
       "Rain Showers,Fog                                     12.1         96   \n",
       "Rain Showers,Snow Showers                            -1.8         75   \n",
       "Rain,Fog                                             -1.2         83   \n",
       "Rain,Haze                                             1.0         81   \n",
       "Rain,Ice Pellets                                     -0.6         92   \n",
       "Rain,Snow                                            -1.7         81   \n",
       "Rain,Snow Grains                                     -2.1         75   \n",
       "Rain,Snow,Fog                                         0.3         96   \n",
       "Rain,Snow,Ice Pellets                                -0.7         88   \n",
       "Snow                                                -24.6         41   \n",
       "Snow Pellets                                         -6.4         59   \n",
       "Snow Showers                                        -19.3         52   \n",
       "Snow Showers,Fog                                    -12.7         89   \n",
       "Snow,Blowing Snow                                   -16.2         70   \n",
       "Snow,Fog                                            -12.0         77   \n",
       "Snow,Haze                                            -7.2         80   \n",
       "Snow,Ice Pellets                                     -5.9         76   \n",
       "Thunderstorms                                        19.4         67   \n",
       "Thunderstorms,Heavy Rain Showers                      9.0         88   \n",
       "Thunderstorms,Moderate Rain Showers,Fog              18.5         93   \n",
       "Thunderstorms,Rain                                   18.2         83   \n",
       "Thunderstorms,Rain Showers                            7.0         68   \n",
       "Thunderstorms,Rain Showers,Fog                       16.1         80   \n",
       "Thunderstorms,Rain,Fog                               18.6         88   \n",
       "\n",
       "                                         Wind Speed_km/h  Visibility_km  \\\n",
       "Weather Condition                                                         \n",
       "Clear                                                  0           11.3   \n",
       "Cloudy                                                 0           11.3   \n",
       "Drizzle                                                0            6.4   \n",
       "Drizzle,Fog                                            0            1.0   \n",
       "Drizzle,Ice Pellets,Fog                               20            4.0   \n",
       "Drizzle,Snow                                           9            9.7   \n",
       "Drizzle,Snow,Fog                                       7            2.4   \n",
       "Fog                                                    0            0.2   \n",
       "Freezing Drizzle                                       6            4.8   \n",
       "Freezing Drizzle,Fog                                   6            3.6   \n",
       "Freezing Drizzle,Haze                                  9            2.0   \n",
       "Freezing Drizzle,Snow                                  6            2.4   \n",
       "Freezing Fog                                           0            0.2   \n",
       "Freezing Rain                                          7            2.8   \n",
       "Freezing Rain,Fog                                      7            2.8   \n",
       "Freezing Rain,Haze                                     6            2.0   \n",
       "Freezing Rain,Ice Pellets,Fog                         28            8.0   \n",
       "Freezing Rain,Snow Grains                             32            4.8   \n",
       "Haze                                                   0            4.8   \n",
       "Mainly Clear                                           0           12.9   \n",
       "Moderate Rain,Fog                                     17            6.4   \n",
       "Moderate Snow                                         26            0.6   \n",
       "Moderate Snow,Blowing Snow                            39            0.6   \n",
       "Mostly Cloudy                                          0           11.3   \n",
       "Rain                                                   0            4.0   \n",
       "Rain Showers                                           0            6.4   \n",
       "Rain Showers,Fog                                      13            6.4   \n",
       "Rain Showers,Snow Showers                             17           19.3   \n",
       "Rain,Fog                                               0            2.0   \n",
       "Rain,Haze                                              7            4.0   \n",
       "Rain,Ice Pellets                                      24            9.7   \n",
       "Rain,Snow                                             13            2.4   \n",
       "Rain,Snow Grains                                      26           25.0   \n",
       "Rain,Snow,Fog                                          9            6.4   \n",
       "Rain,Snow,Ice Pellets                                 17            4.8   \n",
       "Snow                                                   0            1.0   \n",
       "Snow Pellets                                          35            2.4   \n",
       "Snow Showers                                           0            2.4   \n",
       "Snow Showers,Fog                                       7            4.0   \n",
       "Snow,Blowing Snow                                     24            0.6   \n",
       "Snow,Fog                                               4            1.2   \n",
       "Snow,Haze                                              0            4.0   \n",
       "Snow,Ice Pellets                                      19            2.8   \n",
       "Thunderstorms                                          0           24.1   \n",
       "Thunderstorms,Heavy Rain Showers                       9            2.4   \n",
       "Thunderstorms,Moderate Rain Showers,Fog               15            3.2   \n",
       "Thunderstorms,Rain                                     4           16.1   \n",
       "Thunderstorms,Rain Showers                             7            6.4   \n",
       "Thunderstorms,Rain Showers,Fog                         7            9.7   \n",
       "Thunderstorms,Rain,Fog                                19            4.8   \n",
       "\n",
       "                                         Press_kPa  \n",
       "Weather Condition                                   \n",
       "Clear                                        99.52  \n",
       "Cloudy                                       98.39  \n",
       "Drizzle                                      97.84  \n",
       "Drizzle,Fog                                  98.65  \n",
       "Drizzle,Ice Pellets,Fog                     100.79  \n",
       "Drizzle,Snow                                100.63  \n",
       "Drizzle,Snow,Fog                             97.79  \n",
       "Fog                                          98.31  \n",
       "Freezing Drizzle                             98.44  \n",
       "Freezing Drizzle,Fog                         98.74  \n",
       "Freezing Drizzle,Haze                       100.28  \n",
       "Freezing Drizzle,Snow                        99.19  \n",
       "Freezing Fog                                101.97  \n",
       "Freezing Rain                                98.22  \n",
       "Freezing Rain,Fog                            98.32  \n",
       "Freezing Rain,Haze                          100.34  \n",
       "Freezing Rain,Ice Pellets,Fog               100.95  \n",
       "Freezing Rain,Snow Grains                    98.56  \n",
       "Haze                                        100.35  \n",
       "Mainly Clear                                 98.67  \n",
       "Moderate Rain,Fog                            99.98  \n",
       "Moderate Snow                                99.88  \n",
       "Moderate Snow,Blowing Snow                  100.50  \n",
       "Mostly Cloudy                                98.36  \n",
       "Rain                                         97.52  \n",
       "Rain Showers                                 98.51  \n",
       "Rain Showers,Fog                             99.83  \n",
       "Rain Showers,Snow Showers                   101.09  \n",
       "Rain,Fog                                     98.61  \n",
       "Rain,Haze                                   100.50  \n",
       "Rain,Ice Pellets                            100.12  \n",
       "Rain,Snow                                    98.18  \n",
       "Rain,Snow Grains                            100.60  \n",
       "Rain,Snow,Fog                               100.73  \n",
       "Rain,Snow,Ice Pellets                        99.85  \n",
       "Snow                                         97.75  \n",
       "Snow Pellets                                 99.70  \n",
       "Snow Showers                                 99.49  \n",
       "Snow Showers,Fog                            100.63  \n",
       "Snow,Blowing Snow                            98.11  \n",
       "Snow,Fog                                     99.38  \n",
       "Snow,Haze                                   100.61  \n",
       "Snow,Ice Pellets                             99.40  \n",
       "Thunderstorms                                99.84  \n",
       "Thunderstorms,Heavy Rain Showers            100.26  \n",
       "Thunderstorms,Moderate Rain Showers,Fog     100.01  \n",
       "Thunderstorms,Rain                          100.19  \n",
       "Thunderstorms,Rain Showers                   99.65  \n",
       "Thunderstorms,Rain Showers,Fog               99.71  \n",
       "Thunderstorms,Rain,Fog                      100.08  "
      ],
      "text/html": "<div>\n<style scoped>\n    .dataframe tbody tr th:only-of-type {\n        vertical-align: middle;\n    }\n\n    .dataframe tbody tr th {\n        vertical-align: top;\n    }\n\n    .dataframe thead th {\n        text-align: right;\n    }\n</style>\n<table border=\"1\" class=\"dataframe\">\n  <thead>\n    <tr style=\"text-align: right;\">\n      <th></th>\n      <th>Date/Time</th>\n      <th>Temp_C</th>\n      <th>Dew Point Temp_C</th>\n      <th>Rel Hum_%</th>\n      <th>Wind Speed_km/h</th>\n      <th>Visibility_km</th>\n      <th>Press_kPa</th>\n    </tr>\n    <tr>\n      <th>Weather Condition</th>\n      <th></th>\n      <th></th>\n      <th></th>\n      <th></th>\n      <th></th>\n      <th></th>\n      <th></th>\n    </tr>\n  </thead>\n  <tbody>\n    <tr>\n      <th>Clear</th>\n      <td>2012-01-03 19:00:00</td>\n      <td>-23.3</td>\n      <td>-28.5</td>\n      <td>20</td>\n      <td>0</td>\n      <td>11.3</td>\n      <td>99.52</td>\n    </tr>\n    <tr>\n      <th>Cloudy</th>\n      <td>2012-01-01 17:00:00</td>\n      <td>-21.4</td>\n      <td>-26.8</td>\n      <td>18</td>\n      <td>0</td>\n      <td>11.3</td>\n      <td>98.39</td>\n    </tr>\n    <tr>\n      <th>Drizzle</th>\n      <td>2012-01-23 21:00:00</td>\n      <td>1.1</td>\n      <td>-0.2</td>\n      <td>74</td>\n      <td>0</td>\n      <td>6.4</td>\n      <td>97.84</td>\n    </tr>\n    <tr>\n      <th>Drizzle,Fog</th>\n      <td>2012-01-23 20:00:00</td>\n      <td>0.0</td>\n      <td>-1.6</td>\n      <td>85</td>\n      <td>0</td>\n      <td>1.0</td>\n      <td>98.65</td>\n    </tr>\n    <tr>\n      <th>Drizzle,Ice Pellets,Fog</th>\n      <td>2012-12-17 09:00:00</td>\n      <td>0.4</td>\n      <td>-0.7</td>\n      <td>92</td>\n      <td>20</td>\n      <td>4.0</td>\n      <td>100.79</td>\n    </tr>\n    <tr>\n      <th>Drizzle,Snow</th>\n      <td>2012-12-17 15:00:00</td>\n      <td>0.9</td>\n      <td>0.1</td>\n      <td>92</td>\n      <td>9</td>\n      <td>9.7</td>\n      <td>100.63</td>\n    </tr>\n    <tr>\n      <th>Drizzle,Snow,Fog</th>\n      <td>2012-12-18 21:00:00</td>\n      <td>0.3</td>\n      <td>-0.1</td>\n      <td>92</td>\n      <td>7</td>\n      <td>2.4</td>\n      <td>97.79</td>\n    </tr>\n    <tr>\n      <th>Fog</th>\n      <td>2012-01-01 00:00:00</td>\n      <td>-16.0</td>\n      <td>-17.2</td>\n      <td>80</td>\n      <td>0</td>\n      <td>0.2</td>\n      <td>98.31</td>\n    </tr>\n    <tr>\n      <th>Freezing Drizzle</th>\n      <td>2012-01-07 11:00:00</td>\n      <td>-9.0</td>\n      <td>-12.2</td>\n      <td>78</td>\n      <td>6</td>\n      <td>4.8</td>\n      <td>98.44</td>\n    </tr>\n    <tr>\n      <th>Freezing Drizzle,Fog</th>\n      <td>2012-01-01 02:00:00</td>\n      <td>-6.4</td>\n      <td>-9.0</td>\n      <td>82</td>\n      <td>6</td>\n      <td>3.6</td>\n      <td>98.74</td>\n    </tr>\n    <tr>\n      <th>Freezing Drizzle,Haze</th>\n      <td>2012-02-01 11:00:00</td>\n      <td>-5.8</td>\n      <td>-8.3</td>\n      <td>81</td>\n      <td>9</td>\n      <td>2.0</td>\n      <td>100.28</td>\n    </tr>\n    <tr>\n      <th>Freezing Drizzle,Snow</th>\n      <td>2012-01-13 03:00:00</td>\n      <td>-8.3</td>\n      <td>-10.4</td>\n      <td>79</td>\n      <td>6</td>\n      <td>2.4</td>\n      <td>99.19</td>\n    </tr>\n    <tr>\n      <th>Freezing Fog</th>\n      <td>2012-01-22 06:00:00</td>\n      <td>-19.0</td>\n      <td>-22.9</td>\n      <td>71</td>\n      <td>0</td>\n      <td>0.2</td>\n      <td>101.97</td>\n    </tr>\n    <tr>\n      <th>Freezing Rain</th>\n      <td>2012-01-07 10:00:00</td>\n      <td>-6.5</td>\n      <td>-9.0</td>\n      <td>81</td>\n      <td>7</td>\n      <td>2.8</td>\n      <td>98.22</td>\n    </tr>\n    <tr>\n      <th>Freezing Rain,Fog</th>\n      <td>2012-01-07 09:00:00</td>\n      <td>-6.1</td>\n      <td>-8.7</td>\n      <td>82</td>\n      <td>7</td>\n      <td>2.8</td>\n      <td>98.32</td>\n    </tr>\n    <tr>\n      <th>Freezing Rain,Haze</th>\n      <td>2012-02-01 14:00:00</td>\n      <td>-4.9</td>\n      <td>-7.5</td>\n      <td>82</td>\n      <td>6</td>\n      <td>2.0</td>\n      <td>100.34</td>\n    </tr>\n    <tr>\n      <th>Freezing Rain,Ice Pellets,Fog</th>\n      <td>2012-12-17 03:00:00</td>\n      <td>-2.6</td>\n      <td>-3.7</td>\n      <td>92</td>\n      <td>28</td>\n      <td>8.0</td>\n      <td>100.95</td>\n    </tr>\n    <tr>\n      <th>Freezing Rain,Snow Grains</th>\n      <td>2012-01-13 09:00:00</td>\n      <td>-5.0</td>\n      <td>-7.3</td>\n      <td>84</td>\n      <td>32</td>\n      <td>4.8</td>\n      <td>98.56</td>\n    </tr>\n    <tr>\n      <th>Haze</th>\n      <td>2012-01-22 12:00:00</td>\n      <td>-11.5</td>\n      <td>-16.0</td>\n      <td>68</td>\n      <td>0</td>\n      <td>4.8</td>\n      <td>100.35</td>\n    </tr>\n    <tr>\n      <th>Mainly Clear</th>\n      <td>2012-01-02 12:00:00</td>\n      <td>-22.8</td>\n      <td>-28.0</td>\n      <td>20</td>\n      <td>0</td>\n      <td>12.9</td>\n      <td>98.67</td>\n    </tr>\n    <tr>\n      <th>Moderate Rain,Fog</th>\n      <td>2012-12-10 08:00:00</td>\n      <td>1.7</td>\n      <td>0.8</td>\n      <td>94</td>\n      <td>17</td>\n      <td>6.4</td>\n      <td>99.98</td>\n    </tr>\n    <tr>\n      <th>Moderate Snow</th>\n      <td>2012-01-12 15:00:00</td>\n      <td>-6.3</td>\n      <td>-7.6</td>\n      <td>83</td>\n      <td>26</td>\n      <td>0.6</td>\n      <td>99.88</td>\n    </tr>\n    <tr>\n      <th>Moderate Snow,Blowing Snow</th>\n      <td>2012-12-27 10:00:00</td>\n      <td>-5.5</td>\n      <td>-6.6</td>\n      <td>92</td>\n      <td>39</td>\n      <td>0.6</td>\n      <td>100.50</td>\n    </tr>\n    <tr>\n      <th>Mostly Cloudy</th>\n      <td>2012-01-01 16:00:00</td>\n      <td>-23.2</td>\n      <td>-28.5</td>\n      <td>18</td>\n      <td>0</td>\n      <td>11.3</td>\n      <td>98.36</td>\n    </tr>\n    <tr>\n      <th>Rain</th>\n      <td>2012-01-01 18:00:00</td>\n      <td>0.3</td>\n      <td>-5.7</td>\n      <td>40</td>\n      <td>0</td>\n      <td>4.0</td>\n      <td>97.52</td>\n    </tr>\n    <tr>\n      <th>Rain Showers</th>\n      <td>2012-01-01 22:00:00</td>\n      <td>1.6</td>\n      <td>-7.2</td>\n      <td>37</td>\n      <td>0</td>\n      <td>6.4</td>\n      <td>98.51</td>\n    </tr>\n    <tr>\n      <th>Rain Showers,Fog</th>\n      <td>2012-10-20 03:00:00</td>\n      <td>12.8</td>\n      <td>12.1</td>\n      <td>96</td>\n      <td>13</td>\n      <td>6.4</td>\n      <td>99.83</td>\n    </tr>\n    <tr>\n      <th>Rain Showers,Snow Showers</th>\n      <td>2012-11-04 08:00:00</td>\n      <td>2.1</td>\n      <td>-1.8</td>\n      <td>75</td>\n      <td>17</td>\n      <td>19.3</td>\n      <td>101.09</td>\n    </tr>\n    <tr>\n      <th>Rain,Fog</th>\n      <td>2012-01-23 18:00:00</td>\n      <td>0.0</td>\n      <td>-1.2</td>\n      <td>83</td>\n      <td>0</td>\n      <td>2.0</td>\n      <td>98.61</td>\n    </tr>\n    <tr>\n      <th>Rain,Haze</th>\n      <td>2012-03-13 07:00:00</td>\n      <td>4.0</td>\n      <td>1.0</td>\n      <td>81</td>\n      <td>7</td>\n      <td>4.0</td>\n      <td>100.50</td>\n    </tr>\n    <tr>\n      <th>Rain,Ice Pellets</th>\n      <td>2012-12-18 05:00:00</td>\n      <td>0.6</td>\n      <td>-0.6</td>\n      <td>92</td>\n      <td>24</td>\n      <td>9.7</td>\n      <td>100.12</td>\n    </tr>\n    <tr>\n      <th>Rain,Snow</th>\n      <td>2012-01-10 05:00:00</td>\n      <td>0.6</td>\n      <td>-1.7</td>\n      <td>81</td>\n      <td>13</td>\n      <td>2.4</td>\n      <td>98.18</td>\n    </tr>\n    <tr>\n      <th>Rain,Snow Grains</th>\n      <td>2012-12-21 00:00:00</td>\n      <td>1.9</td>\n      <td>-2.1</td>\n      <td>75</td>\n      <td>26</td>\n      <td>25.0</td>\n      <td>100.60</td>\n    </tr>\n    <tr>\n      <th>Rain,Snow,Fog</th>\n      <td>2012-12-08 21:00:00</td>\n      <td>0.8</td>\n      <td>0.3</td>\n      <td>96</td>\n      <td>9</td>\n      <td>6.4</td>\n      <td>100.73</td>\n    </tr>\n    <tr>\n      <th>Rain,Snow,Ice Pellets</th>\n      <td>2012-12-21 01:00:00</td>\n      <td>0.9</td>\n      <td>-0.7</td>\n      <td>88</td>\n      <td>17</td>\n      <td>4.8</td>\n      <td>99.85</td>\n    </tr>\n    <tr>\n      <th>Snow</th>\n      <td>2012-01-03 07:00:00</td>\n      <td>-16.7</td>\n      <td>-24.6</td>\n      <td>41</td>\n      <td>0</td>\n      <td>1.0</td>\n      <td>97.75</td>\n    </tr>\n    <tr>\n      <th>Snow Pellets</th>\n      <td>2012-11-24 15:00:00</td>\n      <td>0.7</td>\n      <td>-6.4</td>\n      <td>59</td>\n      <td>35</td>\n      <td>2.4</td>\n      <td>99.70</td>\n    </tr>\n    <tr>\n      <th>Snow Showers</th>\n      <td>2012-01-02 17:00:00</td>\n      <td>-13.3</td>\n      <td>-19.3</td>\n      <td>52</td>\n      <td>0</td>\n      <td>2.4</td>\n      <td>99.49</td>\n    </tr>\n    <tr>\n      <th>Snow Showers,Fog</th>\n      <td>2012-12-26 09:00:00</td>\n      <td>-11.3</td>\n      <td>-12.7</td>\n      <td>89</td>\n      <td>7</td>\n      <td>4.0</td>\n      <td>100.63</td>\n    </tr>\n    <tr>\n      <th>Snow,Blowing Snow</th>\n      <td>2012-01-13 21:00:00</td>\n      <td>-12.0</td>\n      <td>-16.2</td>\n      <td>70</td>\n      <td>24</td>\n      <td>0.6</td>\n      <td>98.11</td>\n    </tr>\n    <tr>\n      <th>Snow,Fog</th>\n      <td>2012-02-10 23:00:00</td>\n      <td>-10.1</td>\n      <td>-12.0</td>\n      <td>77</td>\n      <td>4</td>\n      <td>1.2</td>\n      <td>99.38</td>\n    </tr>\n    <tr>\n      <th>Snow,Haze</th>\n      <td>2012-02-01 17:00:00</td>\n      <td>-4.3</td>\n      <td>-7.2</td>\n      <td>80</td>\n      <td>0</td>\n      <td>4.0</td>\n      <td>100.61</td>\n    </tr>\n    <tr>\n      <th>Snow,Ice Pellets</th>\n      <td>2012-03-03 04:00:00</td>\n      <td>-4.3</td>\n      <td>-5.9</td>\n      <td>76</td>\n      <td>19</td>\n      <td>2.8</td>\n      <td>99.40</td>\n    </tr>\n    <tr>\n      <th>Thunderstorms</th>\n      <td>2012-07-04 16:00:00</td>\n      <td>21.6</td>\n      <td>19.4</td>\n      <td>67</td>\n      <td>0</td>\n      <td>24.1</td>\n      <td>99.84</td>\n    </tr>\n    <tr>\n      <th>Thunderstorms,Heavy Rain Showers</th>\n      <td>2012-05-29 06:00:00</td>\n      <td>10.9</td>\n      <td>9.0</td>\n      <td>88</td>\n      <td>9</td>\n      <td>2.4</td>\n      <td>100.26</td>\n    </tr>\n    <tr>\n      <th>Thunderstorms,Moderate Rain Showers,Fog</th>\n      <td>2012-07-17 06:00:00</td>\n      <td>19.6</td>\n      <td>18.5</td>\n      <td>93</td>\n      <td>15</td>\n      <td>3.2</td>\n      <td>100.01</td>\n    </tr>\n    <tr>\n      <th>Thunderstorms,Rain</th>\n      <td>2012-05-25 20:00:00</td>\n      <td>19.4</td>\n      <td>18.2</td>\n      <td>83</td>\n      <td>4</td>\n      <td>16.1</td>\n      <td>100.19</td>\n    </tr>\n    <tr>\n      <th>Thunderstorms,Rain Showers</th>\n      <td>2012-05-29 04:00:00</td>\n      <td>11.0</td>\n      <td>7.0</td>\n      <td>68</td>\n      <td>7</td>\n      <td>6.4</td>\n      <td>99.65</td>\n    </tr>\n    <tr>\n      <th>Thunderstorms,Rain Showers,Fog</th>\n      <td>2012-06-29 03:00:00</td>\n      <td>19.5</td>\n      <td>16.1</td>\n      <td>80</td>\n      <td>7</td>\n      <td>9.7</td>\n      <td>99.71</td>\n    </tr>\n    <tr>\n      <th>Thunderstorms,Rain,Fog</th>\n      <td>2012-07-17 05:00:00</td>\n      <td>20.6</td>\n      <td>18.6</td>\n      <td>88</td>\n      <td>19</td>\n      <td>4.8</td>\n      <td>100.08</td>\n    </tr>\n  </tbody>\n</table>\n</div>"
     },
     "metadata": {},
     "execution_count": 93
    }
   ],
   "source": [
    "data.groupby(\"Weather Condition\").min()"
   ]
  },
  {
   "cell_type": "code",
   "execution_count": 94,
   "metadata": {},
   "outputs": [
    {
     "output_type": "execute_result",
     "data": {
      "text/plain": [
       "                                                  Date/Time  Temp_C  \\\n",
       "Weather Condition                                                     \n",
       "Clear                                   2012-12-30 20:00:00    32.8   \n",
       "Cloudy                                  2012-12-31 06:00:00    30.5   \n",
       "Drizzle                                 2012-12-22 01:00:00    18.8   \n",
       "Drizzle,Fog                             2012-12-19 10:00:00    19.9   \n",
       "Drizzle,Ice Pellets,Fog                 2012-12-17 09:00:00     0.4   \n",
       "Drizzle,Snow                            2012-12-19 18:00:00     1.2   \n",
       "Drizzle,Snow,Fog                        2012-12-22 03:00:00     1.1   \n",
       "Fog                                     2012-12-29 10:00:00    20.8   \n",
       "Freezing Drizzle                        2012-12-17 00:00:00    -2.3   \n",
       "Freezing Drizzle,Fog                    2012-12-10 05:00:00    -0.3   \n",
       "Freezing Drizzle,Haze                   2012-02-01 13:00:00    -5.0   \n",
       "Freezing Drizzle,Snow                   2012-12-28 02:00:00    -3.3   \n",
       "Freezing Fog                            2012-03-17 06:00:00    -0.1   \n",
       "Freezing Rain                           2012-12-17 02:00:00     0.3   \n",
       "Freezing Rain,Fog                       2012-12-17 01:00:00     0.1   \n",
       "Freezing Rain,Haze                      2012-02-01 15:00:00    -4.9   \n",
       "Freezing Rain,Ice Pellets,Fog           2012-12-17 03:00:00    -2.6   \n",
       "Freezing Rain,Snow Grains               2012-01-13 09:00:00    -5.0   \n",
       "Haze                                    2012-12-13 12:00:00    14.1   \n",
       "Mainly Clear                            2012-12-30 22:00:00    33.0   \n",
       "Moderate Rain,Fog                       2012-12-10 08:00:00     1.7   \n",
       "Moderate Snow                           2012-12-27 09:00:00    -4.9   \n",
       "Moderate Snow,Blowing Snow              2012-12-27 12:00:00    -5.4   \n",
       "Mostly Cloudy                           2012-12-31 03:00:00    32.4   \n",
       "Rain                                    2012-12-21 21:00:00    22.8   \n",
       "Rain Showers                            2012-12-14 11:00:00    26.4   \n",
       "Rain Showers,Fog                        2012-10-20 03:00:00    12.8   \n",
       "Rain Showers,Snow Showers               2012-12-05 10:00:00     2.2   \n",
       "Rain,Fog                                2012-12-10 17:00:00    21.7   \n",
       "Rain,Haze                               2012-03-13 09:00:00     5.5   \n",
       "Rain,Ice Pellets                        2012-12-18 05:00:00     0.6   \n",
       "Rain,Snow                               2012-12-21 09:00:00     1.7   \n",
       "Rain,Snow Grains                        2012-12-21 00:00:00     1.9   \n",
       "Rain,Snow,Fog                           2012-12-08 21:00:00     0.8   \n",
       "Rain,Snow,Ice Pellets                   2012-12-21 05:00:00     1.3   \n",
       "Snow                                    2012-12-31 23:00:00     3.7   \n",
       "Snow Pellets                            2012-11-24 15:00:00     0.7   \n",
       "Snow Showers                            2012-12-31 08:00:00     2.9   \n",
       "Snow Showers,Fog                        2012-12-29 13:00:00   -10.0   \n",
       "Snow,Blowing Snow                       2012-12-27 19:00:00    -1.4   \n",
       "Snow,Fog                                2012-12-31 10:00:00     1.1   \n",
       "Snow,Haze                               2012-02-01 21:00:00    -3.6   \n",
       "Snow,Ice Pellets                        2012-12-17 06:00:00     0.8   \n",
       "Thunderstorms                           2012-07-16 01:00:00    26.7   \n",
       "Thunderstorms,Heavy Rain Showers        2012-05-29 06:00:00    10.9   \n",
       "Thunderstorms,Moderate Rain Showers,Fog 2012-07-17 06:00:00    19.6   \n",
       "Thunderstorms,Rain                      2012-07-23 18:00:00    21.3   \n",
       "Thunderstorms,Rain Showers              2012-09-14 20:00:00    25.5   \n",
       "Thunderstorms,Rain Showers,Fog          2012-07-31 20:00:00    22.9   \n",
       "Thunderstorms,Rain,Fog                  2012-07-17 05:00:00    20.6   \n",
       "\n",
       "                                         Dew Point Temp_C  Rel Hum_%  \\\n",
       "Weather Condition                                                      \n",
       "Clear                                                20.4         99   \n",
       "Cloudy                                               22.6         99   \n",
       "Drizzle                                              17.7         96   \n",
       "Drizzle,Fog                                          19.1        100   \n",
       "Drizzle,Ice Pellets,Fog                              -0.7         92   \n",
       "Drizzle,Snow                                          0.2         95   \n",
       "Drizzle,Snow,Fog                                      0.6         98   \n",
       "Fog                                                  19.6        100   \n",
       "Freezing Drizzle                                     -3.3         93   \n",
       "Freezing Drizzle,Fog                                 -2.3         94   \n",
       "Freezing Drizzle,Haze                                -7.7         83   \n",
       "Freezing Drizzle,Snow                                -4.6         94   \n",
       "Freezing Fog                                         -0.3         99   \n",
       "Freezing Rain                                        -1.7         92   \n",
       "Freezing Rain,Fog                                    -0.9         93   \n",
       "Freezing Rain,Haze                                   -7.4         83   \n",
       "Freezing Rain,Ice Pellets,Fog                        -3.7         92   \n",
       "Freezing Rain,Snow Grains                            -7.3         84   \n",
       "Haze                                                 11.1         86   \n",
       "Mainly Clear                                         21.2         99   \n",
       "Moderate Rain,Fog                                     0.8         94   \n",
       "Moderate Snow                                        -6.7         93   \n",
       "Moderate Snow,Blowing Snow                           -6.4         93   \n",
       "Mostly Cloudy                                        24.4        100   \n",
       "Rain                                                 20.4         99   \n",
       "Rain Showers                                         23.0         97   \n",
       "Rain Showers,Fog                                     12.1         96   \n",
       "Rain Showers,Snow Showers                            -1.2         78   \n",
       "Rain,Fog                                             19.5        100   \n",
       "Rain,Haze                                             2.9         86   \n",
       "Rain,Ice Pellets                                     -0.6         92   \n",
       "Rain,Snow                                             0.5         94   \n",
       "Rain,Snow Grains                                     -2.1         75   \n",
       "Rain,Snow,Fog                                         0.3         96   \n",
       "Rain,Snow,Ice Pellets                                 0.1         94   \n",
       "Snow                                                  0.3         96   \n",
       "Snow Pellets                                         -6.4         59   \n",
       "Snow Showers                                         -0.7         94   \n",
       "Snow Showers,Fog                                    -11.1         92   \n",
       "Snow,Blowing Snow                                    -2.9         91   \n",
       "Snow,Fog                                              0.8         99   \n",
       "Snow,Haze                                            -6.4         81   \n",
       "Snow,Ice Pellets                                     -1.7         92   \n",
       "Thunderstorms                                        20.1         87   \n",
       "Thunderstorms,Heavy Rain Showers                      9.0         88   \n",
       "Thunderstorms,Moderate Rain Showers,Fog              18.5         93   \n",
       "Thunderstorms,Rain                                   19.1         93   \n",
       "Thunderstorms,Rain Showers                           23.1         98   \n",
       "Thunderstorms,Rain Showers,Fog                       21.3         91   \n",
       "Thunderstorms,Rain,Fog                               18.6         88   \n",
       "\n",
       "                                         Wind Speed_km/h  Visibility_km  \\\n",
       "Weather Condition                                                         \n",
       "Clear                                                 33           48.3   \n",
       "Cloudy                                                54           48.3   \n",
       "Drizzle                                               30           25.0   \n",
       "Drizzle,Fog                                           28            9.7   \n",
       "Drizzle,Ice Pellets,Fog                               20            4.0   \n",
       "Drizzle,Snow                                          19           11.3   \n",
       "Drizzle,Snow,Fog                                      32            9.7   \n",
       "Fog                                                   22            9.7   \n",
       "Freezing Drizzle                                      26           12.9   \n",
       "Freezing Drizzle,Fog                                  33            8.0   \n",
       "Freezing Drizzle,Haze                                 11            4.0   \n",
       "Freezing Drizzle,Snow                                 24           12.9   \n",
       "Freezing Fog                                           9            0.8   \n",
       "Freezing Rain                                         28           16.1   \n",
       "Freezing Rain,Fog                                     26            9.7   \n",
       "Freezing Rain,Haze                                     9            2.8   \n",
       "Freezing Rain,Ice Pellets,Fog                         28            8.0   \n",
       "Freezing Rain,Snow Grains                             32            4.8   \n",
       "Haze                                                  17            9.7   \n",
       "Mainly Clear                                          63           48.3   \n",
       "Moderate Rain,Fog                                     17            6.4   \n",
       "Moderate Snow                                         39            0.8   \n",
       "Moderate Snow,Blowing Snow                            41            0.6   \n",
       "Mostly Cloudy                                         83           48.3   \n",
       "Rain                                                  52           48.3   \n",
       "Rain Showers                                          41           48.3   \n",
       "Rain Showers,Fog                                      13            6.4   \n",
       "Rain Showers,Snow Showers                             28           24.1   \n",
       "Rain,Fog                                              46            9.7   \n",
       "Rain,Haze                                             17            9.7   \n",
       "Rain,Ice Pellets                                      24            9.7   \n",
       "Rain,Snow                                             52           25.0   \n",
       "Rain,Snow Grains                                      26           25.0   \n",
       "Rain,Snow,Fog                                          9            6.4   \n",
       "Rain,Snow,Ice Pellets                                 28            6.4   \n",
       "Snow                                                  57           25.0   \n",
       "Snow Pellets                                          35            2.4   \n",
       "Snow Showers                                          37           48.3   \n",
       "Snow Showers,Fog                                      22            9.7   \n",
       "Snow,Blowing Snow                                     48            9.7   \n",
       "Snow,Fog                                              35            9.7   \n",
       "Snow,Haze                                             15            6.4   \n",
       "Snow,Ice Pellets                                      33           11.3   \n",
       "Thunderstorms                                         15           25.0   \n",
       "Thunderstorms,Heavy Rain Showers                       9            2.4   \n",
       "Thunderstorms,Moderate Rain Showers,Fog               15            3.2   \n",
       "Thunderstorms,Rain                                    30           24.1   \n",
       "Thunderstorms,Rain Showers                            32           25.0   \n",
       "Thunderstorms,Rain Showers,Fog                        35            9.7   \n",
       "Thunderstorms,Rain,Fog                                19            4.8   \n",
       "\n",
       "                                         Press_kPa  \n",
       "Weather Condition                                   \n",
       "Clear                                       103.63  \n",
       "Cloudy                                      103.65  \n",
       "Drizzle                                     101.56  \n",
       "Drizzle,Fog                                 102.07  \n",
       "Drizzle,Ice Pellets,Fog                     100.79  \n",
       "Drizzle,Snow                                101.15  \n",
       "Drizzle,Snow,Fog                            100.15  \n",
       "Fog                                         103.04  \n",
       "Freezing Drizzle                            101.02  \n",
       "Freezing Drizzle,Fog                        101.27  \n",
       "Freezing Drizzle,Haze                       100.36  \n",
       "Freezing Drizzle,Snow                       101.18  \n",
       "Freezing Fog                                102.85  \n",
       "Freezing Rain                               101.00  \n",
       "Freezing Rain,Fog                           101.01  \n",
       "Freezing Rain,Haze                          100.41  \n",
       "Freezing Rain,Ice Pellets,Fog               100.95  \n",
       "Freezing Rain,Snow Grains                    98.56  \n",
       "Haze                                        102.97  \n",
       "Mainly Clear                                103.59  \n",
       "Moderate Rain,Fog                            99.98  \n",
       "Moderate Snow                               100.67  \n",
       "Moderate Snow,Blowing Snow                  100.64  \n",
       "Mostly Cloudy                               103.65  \n",
       "Rain                                        102.26  \n",
       "Rain Showers                                102.31  \n",
       "Rain Showers,Fog                             99.83  \n",
       "Rain Showers,Snow Showers                   101.11  \n",
       "Rain,Fog                                    101.77  \n",
       "Rain,Haze                                   100.61  \n",
       "Rain,Ice Pellets                            100.12  \n",
       "Rain,Snow                                   101.07  \n",
       "Rain,Snow Grains                            100.60  \n",
       "Rain,Snow,Fog                               100.73  \n",
       "Rain,Snow,Ice Pellets                       100.47  \n",
       "Snow                                        102.73  \n",
       "Snow Pellets                                 99.70  \n",
       "Snow Showers                                102.50  \n",
       "Snow Showers,Fog                            102.52  \n",
       "Snow,Blowing Snow                           100.62  \n",
       "Snow,Fog                                    102.07  \n",
       "Snow,Haze                                   100.99  \n",
       "Snow,Ice Pellets                            100.96  \n",
       "Thunderstorms                               100.62  \n",
       "Thunderstorms,Heavy Rain Showers            100.26  \n",
       "Thunderstorms,Moderate Rain Showers,Fog     100.01  \n",
       "Thunderstorms,Rain                          100.83  \n",
       "Thunderstorms,Rain Showers                  101.06  \n",
       "Thunderstorms,Rain Showers,Fog              100.64  \n",
       "Thunderstorms,Rain,Fog                      100.08  "
      ],
      "text/html": "<div>\n<style scoped>\n    .dataframe tbody tr th:only-of-type {\n        vertical-align: middle;\n    }\n\n    .dataframe tbody tr th {\n        vertical-align: top;\n    }\n\n    .dataframe thead th {\n        text-align: right;\n    }\n</style>\n<table border=\"1\" class=\"dataframe\">\n  <thead>\n    <tr style=\"text-align: right;\">\n      <th></th>\n      <th>Date/Time</th>\n      <th>Temp_C</th>\n      <th>Dew Point Temp_C</th>\n      <th>Rel Hum_%</th>\n      <th>Wind Speed_km/h</th>\n      <th>Visibility_km</th>\n      <th>Press_kPa</th>\n    </tr>\n    <tr>\n      <th>Weather Condition</th>\n      <th></th>\n      <th></th>\n      <th></th>\n      <th></th>\n      <th></th>\n      <th></th>\n      <th></th>\n    </tr>\n  </thead>\n  <tbody>\n    <tr>\n      <th>Clear</th>\n      <td>2012-12-30 20:00:00</td>\n      <td>32.8</td>\n      <td>20.4</td>\n      <td>99</td>\n      <td>33</td>\n      <td>48.3</td>\n      <td>103.63</td>\n    </tr>\n    <tr>\n      <th>Cloudy</th>\n      <td>2012-12-31 06:00:00</td>\n      <td>30.5</td>\n      <td>22.6</td>\n      <td>99</td>\n      <td>54</td>\n      <td>48.3</td>\n      <td>103.65</td>\n    </tr>\n    <tr>\n      <th>Drizzle</th>\n      <td>2012-12-22 01:00:00</td>\n      <td>18.8</td>\n      <td>17.7</td>\n      <td>96</td>\n      <td>30</td>\n      <td>25.0</td>\n      <td>101.56</td>\n    </tr>\n    <tr>\n      <th>Drizzle,Fog</th>\n      <td>2012-12-19 10:00:00</td>\n      <td>19.9</td>\n      <td>19.1</td>\n      <td>100</td>\n      <td>28</td>\n      <td>9.7</td>\n      <td>102.07</td>\n    </tr>\n    <tr>\n      <th>Drizzle,Ice Pellets,Fog</th>\n      <td>2012-12-17 09:00:00</td>\n      <td>0.4</td>\n      <td>-0.7</td>\n      <td>92</td>\n      <td>20</td>\n      <td>4.0</td>\n      <td>100.79</td>\n    </tr>\n    <tr>\n      <th>Drizzle,Snow</th>\n      <td>2012-12-19 18:00:00</td>\n      <td>1.2</td>\n      <td>0.2</td>\n      <td>95</td>\n      <td>19</td>\n      <td>11.3</td>\n      <td>101.15</td>\n    </tr>\n    <tr>\n      <th>Drizzle,Snow,Fog</th>\n      <td>2012-12-22 03:00:00</td>\n      <td>1.1</td>\n      <td>0.6</td>\n      <td>98</td>\n      <td>32</td>\n      <td>9.7</td>\n      <td>100.15</td>\n    </tr>\n    <tr>\n      <th>Fog</th>\n      <td>2012-12-29 10:00:00</td>\n      <td>20.8</td>\n      <td>19.6</td>\n      <td>100</td>\n      <td>22</td>\n      <td>9.7</td>\n      <td>103.04</td>\n    </tr>\n    <tr>\n      <th>Freezing Drizzle</th>\n      <td>2012-12-17 00:00:00</td>\n      <td>-2.3</td>\n      <td>-3.3</td>\n      <td>93</td>\n      <td>26</td>\n      <td>12.9</td>\n      <td>101.02</td>\n    </tr>\n    <tr>\n      <th>Freezing Drizzle,Fog</th>\n      <td>2012-12-10 05:00:00</td>\n      <td>-0.3</td>\n      <td>-2.3</td>\n      <td>94</td>\n      <td>33</td>\n      <td>8.0</td>\n      <td>101.27</td>\n    </tr>\n    <tr>\n      <th>Freezing Drizzle,Haze</th>\n      <td>2012-02-01 13:00:00</td>\n      <td>-5.0</td>\n      <td>-7.7</td>\n      <td>83</td>\n      <td>11</td>\n      <td>4.0</td>\n      <td>100.36</td>\n    </tr>\n    <tr>\n      <th>Freezing Drizzle,Snow</th>\n      <td>2012-12-28 02:00:00</td>\n      <td>-3.3</td>\n      <td>-4.6</td>\n      <td>94</td>\n      <td>24</td>\n      <td>12.9</td>\n      <td>101.18</td>\n    </tr>\n    <tr>\n      <th>Freezing Fog</th>\n      <td>2012-03-17 06:00:00</td>\n      <td>-0.1</td>\n      <td>-0.3</td>\n      <td>99</td>\n      <td>9</td>\n      <td>0.8</td>\n      <td>102.85</td>\n    </tr>\n    <tr>\n      <th>Freezing Rain</th>\n      <td>2012-12-17 02:00:00</td>\n      <td>0.3</td>\n      <td>-1.7</td>\n      <td>92</td>\n      <td>28</td>\n      <td>16.1</td>\n      <td>101.00</td>\n    </tr>\n    <tr>\n      <th>Freezing Rain,Fog</th>\n      <td>2012-12-17 01:00:00</td>\n      <td>0.1</td>\n      <td>-0.9</td>\n      <td>93</td>\n      <td>26</td>\n      <td>9.7</td>\n      <td>101.01</td>\n    </tr>\n    <tr>\n      <th>Freezing Rain,Haze</th>\n      <td>2012-02-01 15:00:00</td>\n      <td>-4.9</td>\n      <td>-7.4</td>\n      <td>83</td>\n      <td>9</td>\n      <td>2.8</td>\n      <td>100.41</td>\n    </tr>\n    <tr>\n      <th>Freezing Rain,Ice Pellets,Fog</th>\n      <td>2012-12-17 03:00:00</td>\n      <td>-2.6</td>\n      <td>-3.7</td>\n      <td>92</td>\n      <td>28</td>\n      <td>8.0</td>\n      <td>100.95</td>\n    </tr>\n    <tr>\n      <th>Freezing Rain,Snow Grains</th>\n      <td>2012-01-13 09:00:00</td>\n      <td>-5.0</td>\n      <td>-7.3</td>\n      <td>84</td>\n      <td>32</td>\n      <td>4.8</td>\n      <td>98.56</td>\n    </tr>\n    <tr>\n      <th>Haze</th>\n      <td>2012-12-13 12:00:00</td>\n      <td>14.1</td>\n      <td>11.1</td>\n      <td>86</td>\n      <td>17</td>\n      <td>9.7</td>\n      <td>102.97</td>\n    </tr>\n    <tr>\n      <th>Mainly Clear</th>\n      <td>2012-12-30 22:00:00</td>\n      <td>33.0</td>\n      <td>21.2</td>\n      <td>99</td>\n      <td>63</td>\n      <td>48.3</td>\n      <td>103.59</td>\n    </tr>\n    <tr>\n      <th>Moderate Rain,Fog</th>\n      <td>2012-12-10 08:00:00</td>\n      <td>1.7</td>\n      <td>0.8</td>\n      <td>94</td>\n      <td>17</td>\n      <td>6.4</td>\n      <td>99.98</td>\n    </tr>\n    <tr>\n      <th>Moderate Snow</th>\n      <td>2012-12-27 09:00:00</td>\n      <td>-4.9</td>\n      <td>-6.7</td>\n      <td>93</td>\n      <td>39</td>\n      <td>0.8</td>\n      <td>100.67</td>\n    </tr>\n    <tr>\n      <th>Moderate Snow,Blowing Snow</th>\n      <td>2012-12-27 12:00:00</td>\n      <td>-5.4</td>\n      <td>-6.4</td>\n      <td>93</td>\n      <td>41</td>\n      <td>0.6</td>\n      <td>100.64</td>\n    </tr>\n    <tr>\n      <th>Mostly Cloudy</th>\n      <td>2012-12-31 03:00:00</td>\n      <td>32.4</td>\n      <td>24.4</td>\n      <td>100</td>\n      <td>83</td>\n      <td>48.3</td>\n      <td>103.65</td>\n    </tr>\n    <tr>\n      <th>Rain</th>\n      <td>2012-12-21 21:00:00</td>\n      <td>22.8</td>\n      <td>20.4</td>\n      <td>99</td>\n      <td>52</td>\n      <td>48.3</td>\n      <td>102.26</td>\n    </tr>\n    <tr>\n      <th>Rain Showers</th>\n      <td>2012-12-14 11:00:00</td>\n      <td>26.4</td>\n      <td>23.0</td>\n      <td>97</td>\n      <td>41</td>\n      <td>48.3</td>\n      <td>102.31</td>\n    </tr>\n    <tr>\n      <th>Rain Showers,Fog</th>\n      <td>2012-10-20 03:00:00</td>\n      <td>12.8</td>\n      <td>12.1</td>\n      <td>96</td>\n      <td>13</td>\n      <td>6.4</td>\n      <td>99.83</td>\n    </tr>\n    <tr>\n      <th>Rain Showers,Snow Showers</th>\n      <td>2012-12-05 10:00:00</td>\n      <td>2.2</td>\n      <td>-1.2</td>\n      <td>78</td>\n      <td>28</td>\n      <td>24.1</td>\n      <td>101.11</td>\n    </tr>\n    <tr>\n      <th>Rain,Fog</th>\n      <td>2012-12-10 17:00:00</td>\n      <td>21.7</td>\n      <td>19.5</td>\n      <td>100</td>\n      <td>46</td>\n      <td>9.7</td>\n      <td>101.77</td>\n    </tr>\n    <tr>\n      <th>Rain,Haze</th>\n      <td>2012-03-13 09:00:00</td>\n      <td>5.5</td>\n      <td>2.9</td>\n      <td>86</td>\n      <td>17</td>\n      <td>9.7</td>\n      <td>100.61</td>\n    </tr>\n    <tr>\n      <th>Rain,Ice Pellets</th>\n      <td>2012-12-18 05:00:00</td>\n      <td>0.6</td>\n      <td>-0.6</td>\n      <td>92</td>\n      <td>24</td>\n      <td>9.7</td>\n      <td>100.12</td>\n    </tr>\n    <tr>\n      <th>Rain,Snow</th>\n      <td>2012-12-21 09:00:00</td>\n      <td>1.7</td>\n      <td>0.5</td>\n      <td>94</td>\n      <td>52</td>\n      <td>25.0</td>\n      <td>101.07</td>\n    </tr>\n    <tr>\n      <th>Rain,Snow Grains</th>\n      <td>2012-12-21 00:00:00</td>\n      <td>1.9</td>\n      <td>-2.1</td>\n      <td>75</td>\n      <td>26</td>\n      <td>25.0</td>\n      <td>100.60</td>\n    </tr>\n    <tr>\n      <th>Rain,Snow,Fog</th>\n      <td>2012-12-08 21:00:00</td>\n      <td>0.8</td>\n      <td>0.3</td>\n      <td>96</td>\n      <td>9</td>\n      <td>6.4</td>\n      <td>100.73</td>\n    </tr>\n    <tr>\n      <th>Rain,Snow,Ice Pellets</th>\n      <td>2012-12-21 05:00:00</td>\n      <td>1.3</td>\n      <td>0.1</td>\n      <td>94</td>\n      <td>28</td>\n      <td>6.4</td>\n      <td>100.47</td>\n    </tr>\n    <tr>\n      <th>Snow</th>\n      <td>2012-12-31 23:00:00</td>\n      <td>3.7</td>\n      <td>0.3</td>\n      <td>96</td>\n      <td>57</td>\n      <td>25.0</td>\n      <td>102.73</td>\n    </tr>\n    <tr>\n      <th>Snow Pellets</th>\n      <td>2012-11-24 15:00:00</td>\n      <td>0.7</td>\n      <td>-6.4</td>\n      <td>59</td>\n      <td>35</td>\n      <td>2.4</td>\n      <td>99.70</td>\n    </tr>\n    <tr>\n      <th>Snow Showers</th>\n      <td>2012-12-31 08:00:00</td>\n      <td>2.9</td>\n      <td>-0.7</td>\n      <td>94</td>\n      <td>37</td>\n      <td>48.3</td>\n      <td>102.50</td>\n    </tr>\n    <tr>\n      <th>Snow Showers,Fog</th>\n      <td>2012-12-29 13:00:00</td>\n      <td>-10.0</td>\n      <td>-11.1</td>\n      <td>92</td>\n      <td>22</td>\n      <td>9.7</td>\n      <td>102.52</td>\n    </tr>\n    <tr>\n      <th>Snow,Blowing Snow</th>\n      <td>2012-12-27 19:00:00</td>\n      <td>-1.4</td>\n      <td>-2.9</td>\n      <td>91</td>\n      <td>48</td>\n      <td>9.7</td>\n      <td>100.62</td>\n    </tr>\n    <tr>\n      <th>Snow,Fog</th>\n      <td>2012-12-31 10:00:00</td>\n      <td>1.1</td>\n      <td>0.8</td>\n      <td>99</td>\n      <td>35</td>\n      <td>9.7</td>\n      <td>102.07</td>\n    </tr>\n    <tr>\n      <th>Snow,Haze</th>\n      <td>2012-02-01 21:00:00</td>\n      <td>-3.6</td>\n      <td>-6.4</td>\n      <td>81</td>\n      <td>15</td>\n      <td>6.4</td>\n      <td>100.99</td>\n    </tr>\n    <tr>\n      <th>Snow,Ice Pellets</th>\n      <td>2012-12-17 06:00:00</td>\n      <td>0.8</td>\n      <td>-1.7</td>\n      <td>92</td>\n      <td>33</td>\n      <td>11.3</td>\n      <td>100.96</td>\n    </tr>\n    <tr>\n      <th>Thunderstorms</th>\n      <td>2012-07-16 01:00:00</td>\n      <td>26.7</td>\n      <td>20.1</td>\n      <td>87</td>\n      <td>15</td>\n      <td>25.0</td>\n      <td>100.62</td>\n    </tr>\n    <tr>\n      <th>Thunderstorms,Heavy Rain Showers</th>\n      <td>2012-05-29 06:00:00</td>\n      <td>10.9</td>\n      <td>9.0</td>\n      <td>88</td>\n      <td>9</td>\n      <td>2.4</td>\n      <td>100.26</td>\n    </tr>\n    <tr>\n      <th>Thunderstorms,Moderate Rain Showers,Fog</th>\n      <td>2012-07-17 06:00:00</td>\n      <td>19.6</td>\n      <td>18.5</td>\n      <td>93</td>\n      <td>15</td>\n      <td>3.2</td>\n      <td>100.01</td>\n    </tr>\n    <tr>\n      <th>Thunderstorms,Rain</th>\n      <td>2012-07-23 18:00:00</td>\n      <td>21.3</td>\n      <td>19.1</td>\n      <td>93</td>\n      <td>30</td>\n      <td>24.1</td>\n      <td>100.83</td>\n    </tr>\n    <tr>\n      <th>Thunderstorms,Rain Showers</th>\n      <td>2012-09-14 20:00:00</td>\n      <td>25.5</td>\n      <td>23.1</td>\n      <td>98</td>\n      <td>32</td>\n      <td>25.0</td>\n      <td>101.06</td>\n    </tr>\n    <tr>\n      <th>Thunderstorms,Rain Showers,Fog</th>\n      <td>2012-07-31 20:00:00</td>\n      <td>22.9</td>\n      <td>21.3</td>\n      <td>91</td>\n      <td>35</td>\n      <td>9.7</td>\n      <td>100.64</td>\n    </tr>\n    <tr>\n      <th>Thunderstorms,Rain,Fog</th>\n      <td>2012-07-17 05:00:00</td>\n      <td>20.6</td>\n      <td>18.6</td>\n      <td>88</td>\n      <td>19</td>\n      <td>4.8</td>\n      <td>100.08</td>\n    </tr>\n  </tbody>\n</table>\n</div>"
     },
     "metadata": {},
     "execution_count": 94
    }
   ],
   "source": [
    "data.groupby(\"Weather Condition\").max()"
   ]
  },
  {
   "source": [
    "Q. 13) Show all the Records where Weather Condition is Fog."
   ],
   "cell_type": "markdown",
   "metadata": {}
  },
  {
   "cell_type": "code",
   "execution_count": 95,
   "metadata": {},
   "outputs": [
    {
     "output_type": "execute_result",
     "data": {
      "text/plain": [
       "               Date/Time  Temp_C  Dew Point Temp_C  Rel Hum_%  \\\n",
       "0    2012-01-01 00:00:00    -1.8              -3.9         86   \n",
       "1    2012-01-01 01:00:00    -1.8              -3.7         87   \n",
       "4    2012-01-01 04:00:00    -1.5              -3.3         88   \n",
       "5    2012-01-01 05:00:00    -1.4              -3.3         87   \n",
       "6    2012-01-01 06:00:00    -1.5              -3.1         89   \n",
       "...                  ...     ...               ...        ...   \n",
       "8716 2012-12-29 04:00:00   -16.0             -17.2         90   \n",
       "8717 2012-12-29 05:00:00   -14.8             -15.9         91   \n",
       "8718 2012-12-29 06:00:00   -13.8             -15.3         88   \n",
       "8719 2012-12-29 07:00:00   -14.8             -16.4         88   \n",
       "8722 2012-12-29 10:00:00   -12.0             -13.3         90   \n",
       "\n",
       "      Wind Speed_km/h  Visibility_km  Press_kPa Weather Condition  \n",
       "0                   4            8.0     101.24               Fog  \n",
       "1                   4            8.0     101.24               Fog  \n",
       "4                   7            4.8     101.23               Fog  \n",
       "5                   9            6.4     101.27               Fog  \n",
       "6                   7            6.4     101.29               Fog  \n",
       "...               ...            ...        ...               ...  \n",
       "8716                6            9.7     101.25               Fog  \n",
       "8717                4            6.4     101.25               Fog  \n",
       "8718                4            9.7     101.25               Fog  \n",
       "8719                7            8.0     101.22               Fog  \n",
       "8722                7            6.4     101.15               Fog  \n",
       "\n",
       "[150 rows x 8 columns]"
      ],
      "text/html": "<div>\n<style scoped>\n    .dataframe tbody tr th:only-of-type {\n        vertical-align: middle;\n    }\n\n    .dataframe tbody tr th {\n        vertical-align: top;\n    }\n\n    .dataframe thead th {\n        text-align: right;\n    }\n</style>\n<table border=\"1\" class=\"dataframe\">\n  <thead>\n    <tr style=\"text-align: right;\">\n      <th></th>\n      <th>Date/Time</th>\n      <th>Temp_C</th>\n      <th>Dew Point Temp_C</th>\n      <th>Rel Hum_%</th>\n      <th>Wind Speed_km/h</th>\n      <th>Visibility_km</th>\n      <th>Press_kPa</th>\n      <th>Weather Condition</th>\n    </tr>\n  </thead>\n  <tbody>\n    <tr>\n      <th>0</th>\n      <td>2012-01-01 00:00:00</td>\n      <td>-1.8</td>\n      <td>-3.9</td>\n      <td>86</td>\n      <td>4</td>\n      <td>8.0</td>\n      <td>101.24</td>\n      <td>Fog</td>\n    </tr>\n    <tr>\n      <th>1</th>\n      <td>2012-01-01 01:00:00</td>\n      <td>-1.8</td>\n      <td>-3.7</td>\n      <td>87</td>\n      <td>4</td>\n      <td>8.0</td>\n      <td>101.24</td>\n      <td>Fog</td>\n    </tr>\n    <tr>\n      <th>4</th>\n      <td>2012-01-01 04:00:00</td>\n      <td>-1.5</td>\n      <td>-3.3</td>\n      <td>88</td>\n      <td>7</td>\n      <td>4.8</td>\n      <td>101.23</td>\n      <td>Fog</td>\n    </tr>\n    <tr>\n      <th>5</th>\n      <td>2012-01-01 05:00:00</td>\n      <td>-1.4</td>\n      <td>-3.3</td>\n      <td>87</td>\n      <td>9</td>\n      <td>6.4</td>\n      <td>101.27</td>\n      <td>Fog</td>\n    </tr>\n    <tr>\n      <th>6</th>\n      <td>2012-01-01 06:00:00</td>\n      <td>-1.5</td>\n      <td>-3.1</td>\n      <td>89</td>\n      <td>7</td>\n      <td>6.4</td>\n      <td>101.29</td>\n      <td>Fog</td>\n    </tr>\n    <tr>\n      <th>...</th>\n      <td>...</td>\n      <td>...</td>\n      <td>...</td>\n      <td>...</td>\n      <td>...</td>\n      <td>...</td>\n      <td>...</td>\n      <td>...</td>\n    </tr>\n    <tr>\n      <th>8716</th>\n      <td>2012-12-29 04:00:00</td>\n      <td>-16.0</td>\n      <td>-17.2</td>\n      <td>90</td>\n      <td>6</td>\n      <td>9.7</td>\n      <td>101.25</td>\n      <td>Fog</td>\n    </tr>\n    <tr>\n      <th>8717</th>\n      <td>2012-12-29 05:00:00</td>\n      <td>-14.8</td>\n      <td>-15.9</td>\n      <td>91</td>\n      <td>4</td>\n      <td>6.4</td>\n      <td>101.25</td>\n      <td>Fog</td>\n    </tr>\n    <tr>\n      <th>8718</th>\n      <td>2012-12-29 06:00:00</td>\n      <td>-13.8</td>\n      <td>-15.3</td>\n      <td>88</td>\n      <td>4</td>\n      <td>9.7</td>\n      <td>101.25</td>\n      <td>Fog</td>\n    </tr>\n    <tr>\n      <th>8719</th>\n      <td>2012-12-29 07:00:00</td>\n      <td>-14.8</td>\n      <td>-16.4</td>\n      <td>88</td>\n      <td>7</td>\n      <td>8.0</td>\n      <td>101.22</td>\n      <td>Fog</td>\n    </tr>\n    <tr>\n      <th>8722</th>\n      <td>2012-12-29 10:00:00</td>\n      <td>-12.0</td>\n      <td>-13.3</td>\n      <td>90</td>\n      <td>7</td>\n      <td>6.4</td>\n      <td>101.15</td>\n      <td>Fog</td>\n    </tr>\n  </tbody>\n</table>\n<p>150 rows × 8 columns</p>\n</div>"
     },
     "metadata": {},
     "execution_count": 95
    }
   ],
   "source": [
    "data[data[\"Weather Condition\"] == 'Fog']"
   ]
  },
  {
   "source": [
    "Q. 14) Find all instances when 'Weather is Clear' or 'Visibility is above 40'."
   ],
   "cell_type": "markdown",
   "metadata": {}
  },
  {
   "cell_type": "code",
   "execution_count": 98,
   "metadata": {},
   "outputs": [
    {
     "output_type": "execute_result",
     "data": {
      "text/plain": [
       "               Date/Time  Temp_C  Dew Point Temp_C  Rel Hum_%  \\\n",
       "67   2012-01-03 19:00:00   -16.9             -24.8         50   \n",
       "106  2012-01-05 10:00:00    -6.0             -10.0         73   \n",
       "107  2012-01-05 11:00:00    -5.6             -10.2         70   \n",
       "108  2012-01-05 12:00:00    -4.7              -9.6         69   \n",
       "109  2012-01-05 13:00:00    -4.4              -9.7         66   \n",
       "...                  ...     ...               ...        ...   \n",
       "8749 2012-12-30 13:00:00   -12.4             -16.2         73   \n",
       "8750 2012-12-30 14:00:00   -11.8             -16.1         70   \n",
       "8751 2012-12-30 15:00:00   -11.3             -15.6         70   \n",
       "8752 2012-12-30 16:00:00   -11.4             -15.5         72   \n",
       "8756 2012-12-30 20:00:00   -13.8             -16.5         80   \n",
       "\n",
       "      Wind Speed_km/h  Visibility_km  Press_kPa Weather Condition  \n",
       "67                 24           25.0     101.74             Clear  \n",
       "106                17           48.3     100.45      Mainly Clear  \n",
       "107                22           48.3     100.41      Mainly Clear  \n",
       "108                20           48.3     100.38      Mainly Clear  \n",
       "109                26           48.3     100.40      Mainly Clear  \n",
       "...               ...            ...        ...               ...  \n",
       "8749               37           48.3     100.92     Mostly Cloudy  \n",
       "8750               37           48.3     100.96      Mainly Clear  \n",
       "8751               32           48.3     101.05      Mainly Clear  \n",
       "8752               26           48.3     101.15      Mainly Clear  \n",
       "8756               24           25.0     101.52             Clear  \n",
       "\n",
       "[3027 rows x 8 columns]"
      ],
      "text/html": "<div>\n<style scoped>\n    .dataframe tbody tr th:only-of-type {\n        vertical-align: middle;\n    }\n\n    .dataframe tbody tr th {\n        vertical-align: top;\n    }\n\n    .dataframe thead th {\n        text-align: right;\n    }\n</style>\n<table border=\"1\" class=\"dataframe\">\n  <thead>\n    <tr style=\"text-align: right;\">\n      <th></th>\n      <th>Date/Time</th>\n      <th>Temp_C</th>\n      <th>Dew Point Temp_C</th>\n      <th>Rel Hum_%</th>\n      <th>Wind Speed_km/h</th>\n      <th>Visibility_km</th>\n      <th>Press_kPa</th>\n      <th>Weather Condition</th>\n    </tr>\n  </thead>\n  <tbody>\n    <tr>\n      <th>67</th>\n      <td>2012-01-03 19:00:00</td>\n      <td>-16.9</td>\n      <td>-24.8</td>\n      <td>50</td>\n      <td>24</td>\n      <td>25.0</td>\n      <td>101.74</td>\n      <td>Clear</td>\n    </tr>\n    <tr>\n      <th>106</th>\n      <td>2012-01-05 10:00:00</td>\n      <td>-6.0</td>\n      <td>-10.0</td>\n      <td>73</td>\n      <td>17</td>\n      <td>48.3</td>\n      <td>100.45</td>\n      <td>Mainly Clear</td>\n    </tr>\n    <tr>\n      <th>107</th>\n      <td>2012-01-05 11:00:00</td>\n      <td>-5.6</td>\n      <td>-10.2</td>\n      <td>70</td>\n      <td>22</td>\n      <td>48.3</td>\n      <td>100.41</td>\n      <td>Mainly Clear</td>\n    </tr>\n    <tr>\n      <th>108</th>\n      <td>2012-01-05 12:00:00</td>\n      <td>-4.7</td>\n      <td>-9.6</td>\n      <td>69</td>\n      <td>20</td>\n      <td>48.3</td>\n      <td>100.38</td>\n      <td>Mainly Clear</td>\n    </tr>\n    <tr>\n      <th>109</th>\n      <td>2012-01-05 13:00:00</td>\n      <td>-4.4</td>\n      <td>-9.7</td>\n      <td>66</td>\n      <td>26</td>\n      <td>48.3</td>\n      <td>100.40</td>\n      <td>Mainly Clear</td>\n    </tr>\n    <tr>\n      <th>...</th>\n      <td>...</td>\n      <td>...</td>\n      <td>...</td>\n      <td>...</td>\n      <td>...</td>\n      <td>...</td>\n      <td>...</td>\n      <td>...</td>\n    </tr>\n    <tr>\n      <th>8749</th>\n      <td>2012-12-30 13:00:00</td>\n      <td>-12.4</td>\n      <td>-16.2</td>\n      <td>73</td>\n      <td>37</td>\n      <td>48.3</td>\n      <td>100.92</td>\n      <td>Mostly Cloudy</td>\n    </tr>\n    <tr>\n      <th>8750</th>\n      <td>2012-12-30 14:00:00</td>\n      <td>-11.8</td>\n      <td>-16.1</td>\n      <td>70</td>\n      <td>37</td>\n      <td>48.3</td>\n      <td>100.96</td>\n      <td>Mainly Clear</td>\n    </tr>\n    <tr>\n      <th>8751</th>\n      <td>2012-12-30 15:00:00</td>\n      <td>-11.3</td>\n      <td>-15.6</td>\n      <td>70</td>\n      <td>32</td>\n      <td>48.3</td>\n      <td>101.05</td>\n      <td>Mainly Clear</td>\n    </tr>\n    <tr>\n      <th>8752</th>\n      <td>2012-12-30 16:00:00</td>\n      <td>-11.4</td>\n      <td>-15.5</td>\n      <td>72</td>\n      <td>26</td>\n      <td>48.3</td>\n      <td>101.15</td>\n      <td>Mainly Clear</td>\n    </tr>\n    <tr>\n      <th>8756</th>\n      <td>2012-12-30 20:00:00</td>\n      <td>-13.8</td>\n      <td>-16.5</td>\n      <td>80</td>\n      <td>24</td>\n      <td>25.0</td>\n      <td>101.52</td>\n      <td>Clear</td>\n    </tr>\n  </tbody>\n</table>\n<p>3027 rows × 8 columns</p>\n</div>"
     },
     "metadata": {},
     "execution_count": 98
    }
   ],
   "source": [
    "data[(data[\"Weather Condition\"] == \"Clear\") | (data[\"Visibility_km\"] > 40)]"
   ]
  },
  {
   "source": [
    "Q. 15) Find all instances when :\n",
    "\n",
    "A. 'Weather is Clear' and 'Relative Humidity is greater than 50' or B. 'Visibility is above 40'"
   ],
   "cell_type": "markdown",
   "metadata": {}
  },
  {
   "cell_type": "code",
   "execution_count": 99,
   "metadata": {},
   "outputs": [
    {
     "output_type": "execute_result",
     "data": {
      "text/plain": [
       "               Date/Time  Temp_C  Dew Point Temp_C  Rel Hum_%  \\\n",
       "106  2012-01-05 10:00:00    -6.0             -10.0         73   \n",
       "107  2012-01-05 11:00:00    -5.6             -10.2         70   \n",
       "108  2012-01-05 12:00:00    -4.7              -9.6         69   \n",
       "109  2012-01-05 13:00:00    -4.4              -9.7         66   \n",
       "110  2012-01-05 14:00:00    -5.1             -10.7         65   \n",
       "...                  ...     ...               ...        ...   \n",
       "8749 2012-12-30 13:00:00   -12.4             -16.2         73   \n",
       "8750 2012-12-30 14:00:00   -11.8             -16.1         70   \n",
       "8751 2012-12-30 15:00:00   -11.3             -15.6         70   \n",
       "8752 2012-12-30 16:00:00   -11.4             -15.5         72   \n",
       "8756 2012-12-30 20:00:00   -13.8             -16.5         80   \n",
       "\n",
       "      Wind Speed_km/h  Visibility_km  Press_kPa Weather Condition  \n",
       "106                17           48.3     100.45      Mainly Clear  \n",
       "107                22           48.3     100.41      Mainly Clear  \n",
       "108                20           48.3     100.38      Mainly Clear  \n",
       "109                26           48.3     100.40      Mainly Clear  \n",
       "110                22           48.3     100.46      Mainly Clear  \n",
       "...               ...            ...        ...               ...  \n",
       "8749               37           48.3     100.92     Mostly Cloudy  \n",
       "8750               37           48.3     100.96      Mainly Clear  \n",
       "8751               32           48.3     101.05      Mainly Clear  \n",
       "8752               26           48.3     101.15      Mainly Clear  \n",
       "8756               24           25.0     101.52             Clear  \n",
       "\n",
       "[2921 rows x 8 columns]"
      ],
      "text/html": "<div>\n<style scoped>\n    .dataframe tbody tr th:only-of-type {\n        vertical-align: middle;\n    }\n\n    .dataframe tbody tr th {\n        vertical-align: top;\n    }\n\n    .dataframe thead th {\n        text-align: right;\n    }\n</style>\n<table border=\"1\" class=\"dataframe\">\n  <thead>\n    <tr style=\"text-align: right;\">\n      <th></th>\n      <th>Date/Time</th>\n      <th>Temp_C</th>\n      <th>Dew Point Temp_C</th>\n      <th>Rel Hum_%</th>\n      <th>Wind Speed_km/h</th>\n      <th>Visibility_km</th>\n      <th>Press_kPa</th>\n      <th>Weather Condition</th>\n    </tr>\n  </thead>\n  <tbody>\n    <tr>\n      <th>106</th>\n      <td>2012-01-05 10:00:00</td>\n      <td>-6.0</td>\n      <td>-10.0</td>\n      <td>73</td>\n      <td>17</td>\n      <td>48.3</td>\n      <td>100.45</td>\n      <td>Mainly Clear</td>\n    </tr>\n    <tr>\n      <th>107</th>\n      <td>2012-01-05 11:00:00</td>\n      <td>-5.6</td>\n      <td>-10.2</td>\n      <td>70</td>\n      <td>22</td>\n      <td>48.3</td>\n      <td>100.41</td>\n      <td>Mainly Clear</td>\n    </tr>\n    <tr>\n      <th>108</th>\n      <td>2012-01-05 12:00:00</td>\n      <td>-4.7</td>\n      <td>-9.6</td>\n      <td>69</td>\n      <td>20</td>\n      <td>48.3</td>\n      <td>100.38</td>\n      <td>Mainly Clear</td>\n    </tr>\n    <tr>\n      <th>109</th>\n      <td>2012-01-05 13:00:00</td>\n      <td>-4.4</td>\n      <td>-9.7</td>\n      <td>66</td>\n      <td>26</td>\n      <td>48.3</td>\n      <td>100.40</td>\n      <td>Mainly Clear</td>\n    </tr>\n    <tr>\n      <th>110</th>\n      <td>2012-01-05 14:00:00</td>\n      <td>-5.1</td>\n      <td>-10.7</td>\n      <td>65</td>\n      <td>22</td>\n      <td>48.3</td>\n      <td>100.46</td>\n      <td>Mainly Clear</td>\n    </tr>\n    <tr>\n      <th>...</th>\n      <td>...</td>\n      <td>...</td>\n      <td>...</td>\n      <td>...</td>\n      <td>...</td>\n      <td>...</td>\n      <td>...</td>\n      <td>...</td>\n    </tr>\n    <tr>\n      <th>8749</th>\n      <td>2012-12-30 13:00:00</td>\n      <td>-12.4</td>\n      <td>-16.2</td>\n      <td>73</td>\n      <td>37</td>\n      <td>48.3</td>\n      <td>100.92</td>\n      <td>Mostly Cloudy</td>\n    </tr>\n    <tr>\n      <th>8750</th>\n      <td>2012-12-30 14:00:00</td>\n      <td>-11.8</td>\n      <td>-16.1</td>\n      <td>70</td>\n      <td>37</td>\n      <td>48.3</td>\n      <td>100.96</td>\n      <td>Mainly Clear</td>\n    </tr>\n    <tr>\n      <th>8751</th>\n      <td>2012-12-30 15:00:00</td>\n      <td>-11.3</td>\n      <td>-15.6</td>\n      <td>70</td>\n      <td>32</td>\n      <td>48.3</td>\n      <td>101.05</td>\n      <td>Mainly Clear</td>\n    </tr>\n    <tr>\n      <th>8752</th>\n      <td>2012-12-30 16:00:00</td>\n      <td>-11.4</td>\n      <td>-15.5</td>\n      <td>72</td>\n      <td>26</td>\n      <td>48.3</td>\n      <td>101.15</td>\n      <td>Mainly Clear</td>\n    </tr>\n    <tr>\n      <th>8756</th>\n      <td>2012-12-30 20:00:00</td>\n      <td>-13.8</td>\n      <td>-16.5</td>\n      <td>80</td>\n      <td>24</td>\n      <td>25.0</td>\n      <td>101.52</td>\n      <td>Clear</td>\n    </tr>\n  </tbody>\n</table>\n<p>2921 rows × 8 columns</p>\n</div>"
     },
     "metadata": {},
     "execution_count": 99
    }
   ],
   "source": [
    "data[((data[\"Weather Condition\"] == \"Clear\") & (data[\"Rel Hum_%\"] > 50)) | (data[\"Visibility_km\"] > 40)]"
   ]
  }
 ]
}